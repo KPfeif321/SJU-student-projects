{
 "cells": [
  {
   "cell_type": "markdown",
   "metadata": {},
   "source": [
    "# Build a supervised model on California Housing Data Set\n",
    "Predict the House Value. Use Median House Value as your dependent variable. "
   ]
  },
  {
   "cell_type": "markdown",
   "metadata": {},
   "source": [
    "# Imports"
   ]
  },
  {
   "cell_type": "code",
   "execution_count": 1,
   "metadata": {},
   "outputs": [],
   "source": [
    "# Imports\n",
    "import numpy as np\n",
    "import pandas as pd\n",
    "import mglearn as mglearn\n",
    "import seaborn as sns\n",
    "import matplotlib.pyplot as plt\n",
    "%matplotlib inline \n",
    "import scipy as sp\n",
    "from scipy import stats\n",
    "import sklearn as sklearn\n",
    "from sklearn.metrics import mean_squared_error, r2_score\n",
    "from sklearn.model_selection import train_test_split\n",
    "from sklearn.linear_model import LinearRegression\n",
    "from sklearn.linear_model import Ridge\n",
    "from sklearn.linear_model import Lasso\n",
    "from sklearn.linear_model import LogisticRegression\n",
    "import time\n",
    "from sklearn.naive_bayes import GaussianNB, BernoulliNB, MultinomialNB\n",
    "from sklearn.svm import LinearSVC\n",
    "from sklearn.neighbors import KNeighborsClassifier\n",
    "from sklearn.neighbors import KNeighborsRegressor\n",
    "from sklearn.ensemble import RandomForestClassifier\n",
    "from sklearn.ensemble import RandomForestRegressor\n",
    "from sklearn.datasets import make_blobs\n",
    "from sklearn.datasets import load_breast_cancer\n",
    "from IPython.display import display"
   ]
  },
  {
   "cell_type": "code",
   "execution_count": 2,
   "metadata": {},
   "outputs": [],
   "source": [
    "# Mute warnings\n",
    "import warnings\n",
    "warnings.simplefilter(action='ignore', category=DeprecationWarning)\n",
    "warnings.simplefilter(action='ignore', category=FutureWarning)\n",
    "warnings.simplefilter(action='ignore', category=UserWarning)"
   ]
  },
  {
   "cell_type": "markdown",
   "metadata": {},
   "source": [
    "# Load the data"
   ]
  },
  {
   "cell_type": "code",
   "execution_count": 3,
   "metadata": {},
   "outputs": [
    {
     "data": {
      "text/html": [
       "<div>\n",
       "<style scoped>\n",
       "    .dataframe tbody tr th:only-of-type {\n",
       "        vertical-align: middle;\n",
       "    }\n",
       "\n",
       "    .dataframe tbody tr th {\n",
       "        vertical-align: top;\n",
       "    }\n",
       "\n",
       "    .dataframe thead th {\n",
       "        text-align: right;\n",
       "    }\n",
       "</style>\n",
       "<table border=\"1\" class=\"dataframe\">\n",
       "  <thead>\n",
       "    <tr style=\"text-align: right;\">\n",
       "      <th></th>\n",
       "      <th>MedValue</th>\n",
       "      <th>MedInc</th>\n",
       "      <th>HouseAge</th>\n",
       "      <th>AveRooms</th>\n",
       "      <th>AveBedrms</th>\n",
       "      <th>Population</th>\n",
       "      <th>AveOccup</th>\n",
       "      <th>Latitude</th>\n",
       "      <th>Longitude</th>\n",
       "    </tr>\n",
       "  </thead>\n",
       "  <tbody>\n",
       "    <tr>\n",
       "      <th>0</th>\n",
       "      <td>4.526</td>\n",
       "      <td>8.3252</td>\n",
       "      <td>41.0</td>\n",
       "      <td>6.984127</td>\n",
       "      <td>1.023810</td>\n",
       "      <td>322.0</td>\n",
       "      <td>2.555556</td>\n",
       "      <td>37.88</td>\n",
       "      <td>-122.23</td>\n",
       "    </tr>\n",
       "    <tr>\n",
       "      <th>1</th>\n",
       "      <td>3.585</td>\n",
       "      <td>8.3014</td>\n",
       "      <td>21.0</td>\n",
       "      <td>6.238137</td>\n",
       "      <td>0.971880</td>\n",
       "      <td>2401.0</td>\n",
       "      <td>2.109842</td>\n",
       "      <td>37.86</td>\n",
       "      <td>-122.22</td>\n",
       "    </tr>\n",
       "    <tr>\n",
       "      <th>2</th>\n",
       "      <td>3.521</td>\n",
       "      <td>7.2574</td>\n",
       "      <td>52.0</td>\n",
       "      <td>8.288136</td>\n",
       "      <td>1.073446</td>\n",
       "      <td>496.0</td>\n",
       "      <td>2.802260</td>\n",
       "      <td>37.85</td>\n",
       "      <td>-122.24</td>\n",
       "    </tr>\n",
       "    <tr>\n",
       "      <th>3</th>\n",
       "      <td>3.413</td>\n",
       "      <td>5.6431</td>\n",
       "      <td>52.0</td>\n",
       "      <td>5.817352</td>\n",
       "      <td>1.073059</td>\n",
       "      <td>558.0</td>\n",
       "      <td>2.547945</td>\n",
       "      <td>37.85</td>\n",
       "      <td>-122.25</td>\n",
       "    </tr>\n",
       "    <tr>\n",
       "      <th>4</th>\n",
       "      <td>3.422</td>\n",
       "      <td>3.8462</td>\n",
       "      <td>52.0</td>\n",
       "      <td>6.281853</td>\n",
       "      <td>1.081081</td>\n",
       "      <td>565.0</td>\n",
       "      <td>2.181467</td>\n",
       "      <td>37.85</td>\n",
       "      <td>-122.25</td>\n",
       "    </tr>\n",
       "  </tbody>\n",
       "</table>\n",
       "</div>"
      ],
      "text/plain": [
       "   MedValue  MedInc  HouseAge  AveRooms  AveBedrms  Population  AveOccup  \\\n",
       "0     4.526  8.3252      41.0  6.984127   1.023810       322.0  2.555556   \n",
       "1     3.585  8.3014      21.0  6.238137   0.971880      2401.0  2.109842   \n",
       "2     3.521  7.2574      52.0  8.288136   1.073446       496.0  2.802260   \n",
       "3     3.413  5.6431      52.0  5.817352   1.073059       558.0  2.547945   \n",
       "4     3.422  3.8462      52.0  6.281853   1.081081       565.0  2.181467   \n",
       "\n",
       "   Latitude  Longitude  \n",
       "0     37.88    -122.23  \n",
       "1     37.86    -122.22  \n",
       "2     37.85    -122.24  \n",
       "3     37.85    -122.25  \n",
       "4     37.85    -122.25  "
      ]
     },
     "execution_count": 3,
     "metadata": {},
     "output_type": "execute_result"
    }
   ],
   "source": [
    "# Fetch California Housing dataset\n",
    "from sklearn.datasets import fetch_california_housing\n",
    "ca_housing = fetch_california_housing(data_home=None, download_if_missing=True, return_X_y=False)\n",
    "\n",
    "# Create Pandas DataFrame\n",
    "cal_housing_price = pd.DataFrame(ca_housing.target, columns=['MedValue'])\n",
    "cal_housing_variables_pd = pd.DataFrame(ca_housing.data, columns=ca_housing.feature_names)\n",
    "cal_housing_pd = pd.concat([cal_housing_price, cal_housing_variables_pd], axis=1)\n",
    "cal_housing_pd.head()"
   ]
  },
  {
   "cell_type": "markdown",
   "metadata": {},
   "source": [
    "# Explore the data"
   ]
  },
  {
   "cell_type": "code",
   "execution_count": 4,
   "metadata": {},
   "outputs": [
    {
     "name": "stdout",
     "output_type": "stream",
     "text": [
      "Keys of ca_housing:\n",
      " dict_keys(['data', 'target', 'feature_names', 'DESCR'])\n",
      "Feature names:\\ n ['MedInc', 'HouseAge', 'AveRooms', 'AveBedrms', 'Population', 'AveOccup', 'Latitude', 'Longitude']\n",
      "Shape of data: (20640, 8)\n",
      "Type of target: <class 'numpy.ndarray'>\n",
      "Target:\\ n [4.526 3.585 3.521 ... 0.923 0.847 0.894]\n",
      "Shape of target: (20640,)\n"
     ]
    }
   ],
   "source": [
    "# Metadata Descriptive\n",
    "print(\"Keys of ca_housing:\\n\", ca_housing.keys())\n",
    "print(\"Feature names:\\ n\", ca_housing['feature_names'])\n",
    "print(\"Shape of data:\", ca_housing['data'].shape)\n",
    "print(\"Type of target:\", type(ca_housing['target']))\n",
    "print(\"Target:\\ n\", ca_housing['target'])\n",
    "print(\"Shape of target:\", ca_housing['target'].shape)"
   ]
  },
  {
   "cell_type": "code",
   "execution_count": 5,
   "metadata": {},
   "outputs": [
    {
     "data": {
      "text/html": [
       "<div>\n",
       "<style scoped>\n",
       "    .dataframe tbody tr th:only-of-type {\n",
       "        vertical-align: middle;\n",
       "    }\n",
       "\n",
       "    .dataframe tbody tr th {\n",
       "        vertical-align: top;\n",
       "    }\n",
       "\n",
       "    .dataframe thead th {\n",
       "        text-align: right;\n",
       "    }\n",
       "</style>\n",
       "<table border=\"1\" class=\"dataframe\">\n",
       "  <thead>\n",
       "    <tr style=\"text-align: right;\">\n",
       "      <th></th>\n",
       "      <th>MedValue</th>\n",
       "      <th>MedInc</th>\n",
       "      <th>HouseAge</th>\n",
       "      <th>AveRooms</th>\n",
       "      <th>AveBedrms</th>\n",
       "      <th>Population</th>\n",
       "      <th>AveOccup</th>\n",
       "      <th>Latitude</th>\n",
       "      <th>Longitude</th>\n",
       "    </tr>\n",
       "  </thead>\n",
       "  <tbody>\n",
       "    <tr>\n",
       "      <th>count</th>\n",
       "      <td>20640.000000</td>\n",
       "      <td>20640.000000</td>\n",
       "      <td>20640.000000</td>\n",
       "      <td>20640.000000</td>\n",
       "      <td>20640.000000</td>\n",
       "      <td>20640.000000</td>\n",
       "      <td>20640.000000</td>\n",
       "      <td>20640.000000</td>\n",
       "      <td>20640.000000</td>\n",
       "    </tr>\n",
       "    <tr>\n",
       "      <th>mean</th>\n",
       "      <td>2.068558</td>\n",
       "      <td>3.870671</td>\n",
       "      <td>28.639486</td>\n",
       "      <td>5.429000</td>\n",
       "      <td>1.096675</td>\n",
       "      <td>1425.476744</td>\n",
       "      <td>3.070655</td>\n",
       "      <td>35.631861</td>\n",
       "      <td>-119.569704</td>\n",
       "    </tr>\n",
       "    <tr>\n",
       "      <th>std</th>\n",
       "      <td>1.153956</td>\n",
       "      <td>1.899822</td>\n",
       "      <td>12.585558</td>\n",
       "      <td>2.474173</td>\n",
       "      <td>0.473911</td>\n",
       "      <td>1132.462122</td>\n",
       "      <td>10.386050</td>\n",
       "      <td>2.135952</td>\n",
       "      <td>2.003532</td>\n",
       "    </tr>\n",
       "    <tr>\n",
       "      <th>min</th>\n",
       "      <td>0.149990</td>\n",
       "      <td>0.499900</td>\n",
       "      <td>1.000000</td>\n",
       "      <td>0.846154</td>\n",
       "      <td>0.333333</td>\n",
       "      <td>3.000000</td>\n",
       "      <td>0.692308</td>\n",
       "      <td>32.540000</td>\n",
       "      <td>-124.350000</td>\n",
       "    </tr>\n",
       "    <tr>\n",
       "      <th>25%</th>\n",
       "      <td>1.196000</td>\n",
       "      <td>2.563400</td>\n",
       "      <td>18.000000</td>\n",
       "      <td>4.440716</td>\n",
       "      <td>1.006079</td>\n",
       "      <td>787.000000</td>\n",
       "      <td>2.429741</td>\n",
       "      <td>33.930000</td>\n",
       "      <td>-121.800000</td>\n",
       "    </tr>\n",
       "    <tr>\n",
       "      <th>50%</th>\n",
       "      <td>1.797000</td>\n",
       "      <td>3.534800</td>\n",
       "      <td>29.000000</td>\n",
       "      <td>5.229129</td>\n",
       "      <td>1.048780</td>\n",
       "      <td>1166.000000</td>\n",
       "      <td>2.818116</td>\n",
       "      <td>34.260000</td>\n",
       "      <td>-118.490000</td>\n",
       "    </tr>\n",
       "    <tr>\n",
       "      <th>75%</th>\n",
       "      <td>2.647250</td>\n",
       "      <td>4.743250</td>\n",
       "      <td>37.000000</td>\n",
       "      <td>6.052381</td>\n",
       "      <td>1.099526</td>\n",
       "      <td>1725.000000</td>\n",
       "      <td>3.282261</td>\n",
       "      <td>37.710000</td>\n",
       "      <td>-118.010000</td>\n",
       "    </tr>\n",
       "    <tr>\n",
       "      <th>max</th>\n",
       "      <td>5.000010</td>\n",
       "      <td>15.000100</td>\n",
       "      <td>52.000000</td>\n",
       "      <td>141.909091</td>\n",
       "      <td>34.066667</td>\n",
       "      <td>35682.000000</td>\n",
       "      <td>1243.333333</td>\n",
       "      <td>41.950000</td>\n",
       "      <td>-114.310000</td>\n",
       "    </tr>\n",
       "  </tbody>\n",
       "</table>\n",
       "</div>"
      ],
      "text/plain": [
       "           MedValue        MedInc      HouseAge      AveRooms     AveBedrms  \\\n",
       "count  20640.000000  20640.000000  20640.000000  20640.000000  20640.000000   \n",
       "mean       2.068558      3.870671     28.639486      5.429000      1.096675   \n",
       "std        1.153956      1.899822     12.585558      2.474173      0.473911   \n",
       "min        0.149990      0.499900      1.000000      0.846154      0.333333   \n",
       "25%        1.196000      2.563400     18.000000      4.440716      1.006079   \n",
       "50%        1.797000      3.534800     29.000000      5.229129      1.048780   \n",
       "75%        2.647250      4.743250     37.000000      6.052381      1.099526   \n",
       "max        5.000010     15.000100     52.000000    141.909091     34.066667   \n",
       "\n",
       "         Population      AveOccup      Latitude     Longitude  \n",
       "count  20640.000000  20640.000000  20640.000000  20640.000000  \n",
       "mean    1425.476744      3.070655     35.631861   -119.569704  \n",
       "std     1132.462122     10.386050      2.135952      2.003532  \n",
       "min        3.000000      0.692308     32.540000   -124.350000  \n",
       "25%      787.000000      2.429741     33.930000   -121.800000  \n",
       "50%     1166.000000      2.818116     34.260000   -118.490000  \n",
       "75%     1725.000000      3.282261     37.710000   -118.010000  \n",
       "max    35682.000000   1243.333333     41.950000   -114.310000  "
      ]
     },
     "execution_count": 5,
     "metadata": {},
     "output_type": "execute_result"
    }
   ],
   "source": [
    "# Summary statistics\n",
    "cal_housing_pd.describe()"
   ]
  },
  {
   "cell_type": "code",
   "execution_count": 6,
   "metadata": {},
   "outputs": [
    {
     "data": {
      "text/plain": [
       "<matplotlib.figure.Figure at 0x17725ece390>"
      ]
     },
     "metadata": {},
     "output_type": "display_data"
    },
    {
     "data": {
      "image/png": "[encoded data removed]",
      "text/plain": [
       "<matplotlib.figure.Figure at 0x17725eb5080>"
      ]
     },
     "metadata": {},
     "output_type": "display_data"
    }
   ],
   "source": [
    "# create histograms\n",
    "plt.figure(figsize=(20,10))\n",
    "cal_housing_pd.hist(figsize=(20,10), bins=100, grid=False)\n",
    "plt.show()"
   ]
  },
  {
   "cell_type": "code",
   "execution_count": 7,
   "metadata": {},
   "outputs": [
    {
     "data": {
      "text/plain": [
       "[]"
      ]
     },
     "execution_count": 7,
     "metadata": {},
     "output_type": "execute_result"
    },
    {
     "data": {
      "image/png": "[encoded data removed]",
      "text/plain": [
       "<matplotlib.figure.Figure at 0x1772a939908>"
      ]
     },
     "metadata": {},
     "output_type": "display_data"
    }
   ],
   "source": [
    "plt.figure(figsize=(6,3))\n",
    "\n",
    "plt.scatter(cal_housing_pd['MedInc'],cal_housing_pd['MedValue'],c=cal_housing_pd['MedValue'],s=cal_housing_pd['MedInc']*25)\n",
    "plt.colorbar\n",
    "plt.title('Median Income vs Median House Value' )\n",
    "plt.xlabel('Median Income')\n",
    "plt.ylabel('Median House Value')\n",
    "plt.plot()"
   ]
  },
  {
   "cell_type": "markdown",
   "metadata": {},
   "source": [
    "# Data preparation - Issues resolution"
   ]
  },
  {
   "cell_type": "code",
   "execution_count": 8,
   "metadata": {},
   "outputs": [
    {
     "data": {
      "text/plain": [
       "MedValue      0\n",
       "MedInc        0\n",
       "HouseAge      0\n",
       "AveRooms      0\n",
       "AveBedrms     0\n",
       "Population    0\n",
       "AveOccup      0\n",
       "Latitude      0\n",
       "Longitude     0\n",
       "dtype: int64"
      ]
     },
     "execution_count": 8,
     "metadata": {},
     "output_type": "execute_result"
    }
   ],
   "source": [
    "# Look for nulls\n",
    "cal_housing_pd.isna().sum()"
   ]
  },
  {
   "cell_type": "code",
   "execution_count": 9,
   "metadata": {},
   "outputs": [
    {
     "data": {
      "image/png": "[encoded data removed]",
      "text/plain": [
       "<matplotlib.figure.Figure at 0x1772b317710>"
      ]
     },
     "metadata": {},
     "output_type": "display_data"
    },
    {
     "data": {
      "image/png": "[encoded data removed]",
      "text/plain": [
       "<matplotlib.figure.Figure at 0x1772b317278>"
      ]
     },
     "metadata": {},
     "output_type": "display_data"
    },
    {
     "data": {
      "image/png": "[encoded data removed]",
      "text/plain": [
       "<matplotlib.figure.Figure at 0x1772b3206d8>"
      ]
     },
     "metadata": {},
     "output_type": "display_data"
    },
    {
     "data": {
      "image/png": "[encoded data removed]",
      "text/plain": [
       "<matplotlib.figure.Figure at 0x1772b151550>"
      ]
     },
     "metadata": {},
     "output_type": "display_data"
    },
    {
     "data": {
      "image/png": "[encoded data removed]",
      "text/plain": [
       "<matplotlib.figure.Figure at 0x1772b07c8d0>"
      ]
     },
     "metadata": {},
     "output_type": "display_data"
    }
   ],
   "source": [
    "# boxplot on Median Income, Median Value, House Age review outliers from exploration histograms\n",
    "plt.figure(figsize=(6,3))\n",
    "sns.boxplot(y='MedInc',data=cal_housing_pd)\n",
    "plt.plot\n",
    "\n",
    "plt.figure(figsize=(6,3))\n",
    "sns.boxplot(y='MedValue',data=cal_housing_pd)\n",
    "plt.plot\n",
    "\n",
    "plt.figure(figsize=(6,3))\n",
    "sns.distplot(cal_housing_pd['MedInc'],color='darkblue')\n",
    "plt.show()\n",
    "\n",
    "plt.figure(figsize=(6,3))\n",
    "sns.distplot(cal_housing_pd['MedValue'],color='darkblue')\n",
    "plt.show()\n",
    "\n",
    "plt.figure(figsize=(6,3))\n",
    "sns.distplot(cal_housing_pd['HouseAge'],color='darkblue')\n",
    "plt.show()"
   ]
  },
  {
   "cell_type": "markdown",
   "metadata": {},
   "source": [
    "# Feature Engineering "
   ]
  },
  {
   "cell_type": "code",
   "execution_count": 10,
   "metadata": {},
   "outputs": [
    {
     "data": {
      "text/plain": [
       "5.00001    965\n",
       "5.00000     27\n",
       "4.75000      8\n",
       "4.83300      6\n",
       "4.66700      4\n",
       "Name: MedValue, dtype: int64"
      ]
     },
     "execution_count": 10,
     "metadata": {},
     "output_type": "execute_result"
    }
   ],
   "source": [
    "# Identify Outliers in MedValue\n",
    "cal_housing_pd[cal_housing_pd['MedValue']>4.5]['MedValue'].value_counts().head()"
   ]
  },
  {
   "cell_type": "code",
   "execution_count": 11,
   "metadata": {},
   "outputs": [],
   "source": [
    "# Locate MedValue greater than 500K\n",
    "cal_housing_pd=cal_housing_pd.loc[cal_housing_pd['MedValue']<5,:]"
   ]
  },
  {
   "cell_type": "code",
   "execution_count": 12,
   "metadata": {},
   "outputs": [
    {
     "data": {
      "image/png": "[encoded data removed]",
      "text/plain": [
       "<matplotlib.figure.Figure at 0x1772a86cb70>"
      ]
     },
     "metadata": {},
     "output_type": "display_data"
    }
   ],
   "source": [
    "# Plot showing removal of MedValue Outlier\n",
    "plt.figure(figsize=(6,3))\n",
    "sns.distplot(cal_housing_pd['MedValue'])\n",
    "plt.show()"
   ]
  },
  {
   "cell_type": "code",
   "execution_count": 13,
   "metadata": {},
   "outputs": [
    {
     "data": {
      "text/plain": [
       "15.0001    3\n",
       "13.1477    1\n",
       "13.1107    1\n",
       "Name: MedInc, dtype: int64"
      ]
     },
     "execution_count": 13,
     "metadata": {},
     "output_type": "execute_result"
    }
   ],
   "source": [
    "# Identify Outliers in MedInc\n",
    "cal_housing_pd[cal_housing_pd['MedInc']>13]['MedInc'].value_counts().head()"
   ]
  },
  {
   "cell_type": "code",
   "execution_count": 14,
   "metadata": {},
   "outputs": [],
   "source": [
    "# Locate MedInc less than 15\n",
    "cal_housing_pd=cal_housing_pd[cal_housing_pd['MedInc']<15]"
   ]
  },
  {
   "cell_type": "code",
   "execution_count": 15,
   "metadata": {},
   "outputs": [
    {
     "data": {
      "image/png": "[encoded data removed]",
      "text/plain": [
       "<matplotlib.figure.Figure at 0x1772ae64ef0>"
      ]
     },
     "metadata": {},
     "output_type": "display_data"
    }
   ],
   "source": [
    "# Plot showing removal of MedInc Outlier (see boxplot under data prep for comparison)\n",
    "plt.figure(figsize=(6,3))\n",
    "sns.distplot(cal_housing_pd['MedInc'])\n",
    "plt.show()"
   ]
  },
  {
   "cell_type": "code",
   "execution_count": 16,
   "metadata": {},
   "outputs": [
    {
     "data": {
      "text/plain": [
       "52.0    1092\n",
       "49.0     125\n",
       "50.0     123\n",
       "51.0      44\n",
       "Name: HouseAge, dtype: int64"
      ]
     },
     "execution_count": 16,
     "metadata": {},
     "output_type": "execute_result"
    }
   ],
   "source": [
    "# Identify Outliers in HouseAge (see boxplot under data prep for comparison)\n",
    "cal_housing_pd[cal_housing_pd['HouseAge']>48]['HouseAge'].value_counts().head()"
   ]
  },
  {
   "cell_type": "code",
   "execution_count": 17,
   "metadata": {},
   "outputs": [],
   "source": [
    "# Locate House Age less than 52\n",
    "cal_housing_pd=cal_housing_pd[cal_housing_pd['HouseAge']<52]"
   ]
  },
  {
   "cell_type": "code",
   "execution_count": 18,
   "metadata": {},
   "outputs": [
    {
     "data": {
      "image/png": "[encoded data removed]",
      "text/plain": [
       "<matplotlib.figure.Figure at 0x1772ad646d8>"
      ]
     },
     "metadata": {},
     "output_type": "display_data"
    }
   ],
   "source": [
    "# Plot showing removal of HouseAge Outlier (see boxplot under data prep for comparison)\n",
    "plt.figure(figsize=(6,3))\n",
    "sns.distplot(cal_housing_pd['HouseAge'])\n",
    "plt.show()"
   ]
  },
  {
   "cell_type": "code",
   "execution_count": 19,
   "metadata": {},
   "outputs": [
    {
     "data": {
      "image/png": "[encoded data removed]",
      "text/plain": [
       "<matplotlib.figure.Figure at 0x1772af697f0>"
      ]
     },
     "metadata": {},
     "output_type": "display_data"
    }
   ],
   "source": [
    "# Plot Correlation Heatmap\n",
    "plt.figure(figsize=(10,5))\n",
    "ax = plt.axes()\n",
    "corr = cal_housing_pd.corr()\n",
    "sns.heatmap(corr, ax=ax, xticklabels=corr.columns.values,yticklabels=corr.columns.values)\n",
    "ax.set_title('CA Correlation Heatmap', fontsize=15)\n",
    "plt.show()"
   ]
  },
  {
   "cell_type": "code",
   "execution_count": 20,
   "metadata": {},
   "outputs": [
    {
     "data": {
      "text/html": [
       "<div>\n",
       "<style scoped>\n",
       "    .dataframe tbody tr th:only-of-type {\n",
       "        vertical-align: middle;\n",
       "    }\n",
       "\n",
       "    .dataframe tbody tr th {\n",
       "        vertical-align: top;\n",
       "    }\n",
       "\n",
       "    .dataframe thead th {\n",
       "        text-align: right;\n",
       "    }\n",
       "</style>\n",
       "<table border=\"1\" class=\"dataframe\">\n",
       "  <thead>\n",
       "    <tr style=\"text-align: right;\">\n",
       "      <th></th>\n",
       "      <th>MedValue</th>\n",
       "      <th>MedInc</th>\n",
       "      <th>HouseAge</th>\n",
       "      <th>AveRooms</th>\n",
       "      <th>Population</th>\n",
       "      <th>AveOccup</th>\n",
       "      <th>Latitude</th>\n",
       "      <th>Longitude</th>\n",
       "    </tr>\n",
       "  </thead>\n",
       "  <tbody>\n",
       "    <tr>\n",
       "      <th>0</th>\n",
       "      <td>4.526</td>\n",
       "      <td>8.3252</td>\n",
       "      <td>41.0</td>\n",
       "      <td>6.984127</td>\n",
       "      <td>322.0</td>\n",
       "      <td>2.555556</td>\n",
       "      <td>37.88</td>\n",
       "      <td>-122.23</td>\n",
       "    </tr>\n",
       "    <tr>\n",
       "      <th>1</th>\n",
       "      <td>3.585</td>\n",
       "      <td>8.3014</td>\n",
       "      <td>21.0</td>\n",
       "      <td>6.238137</td>\n",
       "      <td>2401.0</td>\n",
       "      <td>2.109842</td>\n",
       "      <td>37.86</td>\n",
       "      <td>-122.22</td>\n",
       "    </tr>\n",
       "    <tr>\n",
       "      <th>8</th>\n",
       "      <td>2.267</td>\n",
       "      <td>2.0804</td>\n",
       "      <td>42.0</td>\n",
       "      <td>4.294118</td>\n",
       "      <td>1206.0</td>\n",
       "      <td>2.026891</td>\n",
       "      <td>37.84</td>\n",
       "      <td>-122.26</td>\n",
       "    </tr>\n",
       "    <tr>\n",
       "      <th>15</th>\n",
       "      <td>1.400</td>\n",
       "      <td>2.1250</td>\n",
       "      <td>50.0</td>\n",
       "      <td>4.242424</td>\n",
       "      <td>697.0</td>\n",
       "      <td>2.640152</td>\n",
       "      <td>37.85</td>\n",
       "      <td>-122.26</td>\n",
       "    </tr>\n",
       "    <tr>\n",
       "      <th>18</th>\n",
       "      <td>1.587</td>\n",
       "      <td>1.9911</td>\n",
       "      <td>50.0</td>\n",
       "      <td>5.343675</td>\n",
       "      <td>990.0</td>\n",
       "      <td>2.362768</td>\n",
       "      <td>37.84</td>\n",
       "      <td>-122.26</td>\n",
       "    </tr>\n",
       "  </tbody>\n",
       "</table>\n",
       "</div>"
      ],
      "text/plain": [
       "    MedValue  MedInc  HouseAge  AveRooms  Population  AveOccup  Latitude  \\\n",
       "0      4.526  8.3252      41.0  6.984127       322.0  2.555556     37.88   \n",
       "1      3.585  8.3014      21.0  6.238137      2401.0  2.109842     37.86   \n",
       "8      2.267  2.0804      42.0  4.294118      1206.0  2.026891     37.84   \n",
       "15     1.400  2.1250      50.0  4.242424       697.0  2.640152     37.85   \n",
       "18     1.587  1.9911      50.0  5.343675       990.0  2.362768     37.84   \n",
       "\n",
       "    Longitude  \n",
       "0     -122.23  \n",
       "1     -122.22  \n",
       "8     -122.26  \n",
       "15    -122.26  \n",
       "18    -122.26  "
      ]
     },
     "execution_count": 20,
     "metadata": {},
     "output_type": "execute_result"
    }
   ],
   "source": [
    "# Dropping highly correlated AveBedrms (vs. AveRooms) for optimized Regression analysis\n",
    "cal_housing_pd.drop(['AveBedrms'], axis=1, inplace=True)\n",
    "cal_housing_pd.head()"
   ]
  },
  {
   "cell_type": "markdown",
   "metadata": {},
   "source": [
    "# Build Supervised Model 1: K-Nearest Neighbors Regressor"
   ]
  },
  {
   "cell_type": "code",
   "execution_count": 21,
   "metadata": {},
   "outputs": [],
   "source": [
    "#from sklearn.model_selection import train_test_split\n",
    "#from sklearn.metrics importe mean_squared_error, r2_score\n",
    "\n",
    "# X = Remove y from cal_housing_pd (so we can use 'engineered' dataframe)\n",
    "cal_housing_pd_data = cal_housing_pd.drop(['MedValue'], axis=1)\n",
    "\n",
    "# y = Remove X from cal_housing_pd by selecting the MedValue column\n",
    "cal_housing_pd_target = cal_housing_pd['MedValue']\n",
    "\n",
    "# Train Test Split with a DataFrame (using 'engineered' dataframe)\n",
    "Xcal_train, Xcal_test, ycal_train, ycal_test = train_test_split(cal_housing_pd_data, cal_housing_pd_target, shuffle=True, test_size=0.20, random_state=321)\n",
    "\n",
    "\n",
    "# Transform pd dataframe into array (.values)\n",
    "X_train = Xcal_train.values\n",
    "X_test = Xcal_test.values\n",
    "\n",
    "y_train = ycal_train.values\n",
    "y_test = ycal_test.values"
   ]
  },
  {
   "cell_type": "code",
   "execution_count": 22,
   "metadata": {},
   "outputs": [
    {
     "name": "stdout",
     "output_type": "stream",
     "text": [
      "Train set predictions:\n",
      " [1.58036842 1.81121053 1.76626316 ... 1.63615789 1.99505263 1.97484211]\n"
     ]
    }
   ],
   "source": [
    "# loop through\n",
    "knn_results = []\n",
    "for i in range(1,20):\n",
    "    # make predictions using looped neighbors\n",
    "    reg = KNeighborsRegressor(n_neighbors=i)\n",
    "    reg.fit(X_train, y_train)\n",
    "    knn_results.append((i, reg.score(X_train, y_train), reg.score(X_test, y_test))) #saves value of n used as a tuple with R2\n",
    "print(\"Train set predictions:\\n\", reg.predict(X_train))"
   ]
  },
  {
   "cell_type": "code",
   "execution_count": 23,
   "metadata": {},
   "outputs": [
    {
     "data": {
      "text/html": [
       "<div>\n",
       "<style scoped>\n",
       "    .dataframe tbody tr th:only-of-type {\n",
       "        vertical-align: middle;\n",
       "    }\n",
       "\n",
       "    .dataframe tbody tr th {\n",
       "        vertical-align: top;\n",
       "    }\n",
       "\n",
       "    .dataframe thead th {\n",
       "        text-align: right;\n",
       "    }\n",
       "</style>\n",
       "<table border=\"1\" class=\"dataframe\">\n",
       "  <thead>\n",
       "    <tr style=\"text-align: right;\">\n",
       "      <th></th>\n",
       "      <th>n</th>\n",
       "      <th>RsqTrain</th>\n",
       "      <th>RsqTest</th>\n",
       "    </tr>\n",
       "  </thead>\n",
       "  <tbody>\n",
       "    <tr>\n",
       "      <th>0</th>\n",
       "      <td>1</td>\n",
       "      <td>1.000000</td>\n",
       "      <td>-0.290470</td>\n",
       "    </tr>\n",
       "    <tr>\n",
       "      <th>1</th>\n",
       "      <td>2</td>\n",
       "      <td>0.659042</td>\n",
       "      <td>-0.023434</td>\n",
       "    </tr>\n",
       "    <tr>\n",
       "      <th>2</th>\n",
       "      <td>3</td>\n",
       "      <td>0.521531</td>\n",
       "      <td>0.058709</td>\n",
       "    </tr>\n",
       "    <tr>\n",
       "      <th>3</th>\n",
       "      <td>4</td>\n",
       "      <td>0.441787</td>\n",
       "      <td>0.097927</td>\n",
       "    </tr>\n",
       "    <tr>\n",
       "      <th>4</th>\n",
       "      <td>5</td>\n",
       "      <td>0.386426</td>\n",
       "      <td>0.107793</td>\n",
       "    </tr>\n",
       "    <tr>\n",
       "      <th>5</th>\n",
       "      <td>6</td>\n",
       "      <td>0.347954</td>\n",
       "      <td>0.117382</td>\n",
       "    </tr>\n",
       "    <tr>\n",
       "      <th>6</th>\n",
       "      <td>7</td>\n",
       "      <td>0.316220</td>\n",
       "      <td>0.117096</td>\n",
       "    </tr>\n",
       "    <tr>\n",
       "      <th>7</th>\n",
       "      <td>8</td>\n",
       "      <td>0.289705</td>\n",
       "      <td>0.115941</td>\n",
       "    </tr>\n",
       "    <tr>\n",
       "      <th>8</th>\n",
       "      <td>9</td>\n",
       "      <td>0.270895</td>\n",
       "      <td>0.116154</td>\n",
       "    </tr>\n",
       "    <tr>\n",
       "      <th>9</th>\n",
       "      <td>10</td>\n",
       "      <td>0.255382</td>\n",
       "      <td>0.112144</td>\n",
       "    </tr>\n",
       "    <tr>\n",
       "      <th>10</th>\n",
       "      <td>11</td>\n",
       "      <td>0.239964</td>\n",
       "      <td>0.105863</td>\n",
       "    </tr>\n",
       "    <tr>\n",
       "      <th>11</th>\n",
       "      <td>12</td>\n",
       "      <td>0.227331</td>\n",
       "      <td>0.100953</td>\n",
       "    </tr>\n",
       "    <tr>\n",
       "      <th>12</th>\n",
       "      <td>13</td>\n",
       "      <td>0.217797</td>\n",
       "      <td>0.100192</td>\n",
       "    </tr>\n",
       "    <tr>\n",
       "      <th>13</th>\n",
       "      <td>14</td>\n",
       "      <td>0.209990</td>\n",
       "      <td>0.099860</td>\n",
       "    </tr>\n",
       "    <tr>\n",
       "      <th>14</th>\n",
       "      <td>15</td>\n",
       "      <td>0.201209</td>\n",
       "      <td>0.092506</td>\n",
       "    </tr>\n",
       "    <tr>\n",
       "      <th>15</th>\n",
       "      <td>16</td>\n",
       "      <td>0.193636</td>\n",
       "      <td>0.089149</td>\n",
       "    </tr>\n",
       "    <tr>\n",
       "      <th>16</th>\n",
       "      <td>17</td>\n",
       "      <td>0.186283</td>\n",
       "      <td>0.085491</td>\n",
       "    </tr>\n",
       "    <tr>\n",
       "      <th>17</th>\n",
       "      <td>18</td>\n",
       "      <td>0.178488</td>\n",
       "      <td>0.082086</td>\n",
       "    </tr>\n",
       "    <tr>\n",
       "      <th>18</th>\n",
       "      <td>19</td>\n",
       "      <td>0.172276</td>\n",
       "      <td>0.081966</td>\n",
       "    </tr>\n",
       "  </tbody>\n",
       "</table>\n",
       "</div>"
      ],
      "text/plain": [
       "     n  RsqTrain   RsqTest\n",
       "0    1  1.000000 -0.290470\n",
       "1    2  0.659042 -0.023434\n",
       "2    3  0.521531  0.058709\n",
       "3    4  0.441787  0.097927\n",
       "4    5  0.386426  0.107793\n",
       "5    6  0.347954  0.117382\n",
       "6    7  0.316220  0.117096\n",
       "7    8  0.289705  0.115941\n",
       "8    9  0.270895  0.116154\n",
       "9   10  0.255382  0.112144\n",
       "10  11  0.239964  0.105863\n",
       "11  12  0.227331  0.100953\n",
       "12  13  0.217797  0.100192\n",
       "13  14  0.209990  0.099860\n",
       "14  15  0.201209  0.092506\n",
       "15  16  0.193636  0.089149\n",
       "16  17  0.186283  0.085491\n",
       "17  18  0.178488  0.082086\n",
       "18  19  0.172276  0.081966"
      ]
     },
     "execution_count": 23,
     "metadata": {},
     "output_type": "execute_result"
    }
   ],
   "source": [
    "knn_results_df = pd.DataFrame(knn_results, columns=['n','RsqTrain', 'RsqTest'])\n",
    "knn_results_df"
   ]
  },
  {
   "cell_type": "code",
   "execution_count": 24,
   "metadata": {},
   "outputs": [
    {
     "data": {
      "text/plain": [
       "<matplotlib.axes._subplots.AxesSubplot at 0x1772add5898>"
      ]
     },
     "execution_count": 24,
     "metadata": {},
     "output_type": "execute_result"
    },
    {
     "data": {
      "image/png": "[encoded data removed]",
      "text/plain": [
       "<matplotlib.figure.Figure at 0x1772adb6470>"
      ]
     },
     "metadata": {},
     "output_type": "display_data"
    }
   ],
   "source": [
    "# display inflection point of the model where 6 appears to be the best fit on training set\n",
    "# training set n decreases as number of neighbors increases, test set gets more stable at about 6\n",
    "knn_results_df.plot(x='n', y=['RsqTrain', 'RsqTest'])"
   ]
  },
  {
   "cell_type": "code",
   "execution_count": 25,
   "metadata": {},
   "outputs": [
    {
     "name": "stdout",
     "output_type": "stream",
     "text": [
      "Training set R^2 score: 0.35\n",
      "Test set R^2 score: 0.12\n"
     ]
    }
   ],
   "source": [
    "reg_bestfit = KNeighborsRegressor(n_neighbors=6)\n",
    "reg_bestfit.fit(X_train, y_train)\n",
    "print(\"Training set R^2 score: {:.2f}\".format(reg_bestfit.score(X_train, y_train))) \n",
    "print(\"Test set R^2 score: {:.2f}\".format(reg_bestfit.score(X_test, y_test)))"
   ]
  },
  {
   "cell_type": "markdown",
   "metadata": {},
   "source": [
    "# Build Supervised Model 2: Ridge Regression"
   ]
  },
  {
   "cell_type": "code",
   "execution_count": 26,
   "metadata": {
    "scrolled": true
   },
   "outputs": [
    {
     "name": "stdout",
     "output_type": "stream",
     "text": [
      "Training set R^2 score: 0.57\n",
      "Test set R^2 score: 0.57\n"
     ]
    }
   ],
   "source": [
    "from sklearn.linear_model import Ridge #uses regularization on the inputs, calculating the L2 norms (square of the difference)\n",
    "ridge = Ridge().fit(X_train, y_train) #uses alpha as parameter in the fit\n",
    "print(\"Training set R^2 score: {:.2f}\".format(ridge.score(X_train, y_train))) \n",
    "print(\"Test set R^2 score: {:.2f}\".format(ridge.score(X_test, y_test)))"
   ]
  },
  {
   "cell_type": "code",
   "execution_count": 27,
   "metadata": {},
   "outputs": [
    {
     "name": "stdout",
     "output_type": "stream",
     "text": [
      "Train set predictions:\n",
      " [(0.0, 0.5736386075353366, 0.5674645197404644), (0.1111111111111111, 0.5736386074611091, 0.5674647117971121), (0.2222222222222222, 0.5736386072384432, 0.5674649036865865), (0.3333333333333333, 0.5736386068673647, 0.5674650954089169), (0.4444444444444444, 0.5736386063478986, 0.5674652869641318), (0.5555555555555556, 0.5736386056800706, 0.5674654783522608), (0.6666666666666666, 0.5736386048639063, 0.5674656695733323), (0.7777777777777777, 0.5736386038994309, 0.5674658606273757), (0.8888888888888888, 0.5736386027866698, 0.5674660515144198), (1.0, 0.5736386015256483, 0.5674662422344934)]\n"
     ]
    }
   ],
   "source": [
    "# make predictions using looped alpha\n",
    "ridge_results = []\n",
    "\n",
    "for alpha_val in np.linspace(0.0, 1, num=10): #linspace is number of samples between start and end for alpha between 0 and 1\n",
    "    ridge_regressor = Ridge(alpha=alpha_val)\n",
    "    ridge_regressor.fit(X_train, y_train)\n",
    "    ridge_results.append((alpha_val, ridge_regressor.score(X_train, y_train),ridge_regressor.score(X_test, y_test)))\n",
    "print(\"Train set predictions:\\n\", ridge_results)"
   ]
  },
  {
   "cell_type": "code",
   "execution_count": 28,
   "metadata": {},
   "outputs": [
    {
     "data": {
      "text/html": [
       "<div>\n",
       "<style scoped>\n",
       "    .dataframe tbody tr th:only-of-type {\n",
       "        vertical-align: middle;\n",
       "    }\n",
       "\n",
       "    .dataframe tbody tr th {\n",
       "        vertical-align: top;\n",
       "    }\n",
       "\n",
       "    .dataframe thead th {\n",
       "        text-align: right;\n",
       "    }\n",
       "</style>\n",
       "<table border=\"1\" class=\"dataframe\">\n",
       "  <thead>\n",
       "    <tr style=\"text-align: right;\">\n",
       "      <th></th>\n",
       "      <th>alpha_val</th>\n",
       "      <th>RsqTrain</th>\n",
       "      <th>RsqTest</th>\n",
       "    </tr>\n",
       "  </thead>\n",
       "  <tbody>\n",
       "    <tr>\n",
       "      <th>0</th>\n",
       "      <td>0.000000</td>\n",
       "      <td>0.573639</td>\n",
       "      <td>0.567465</td>\n",
       "    </tr>\n",
       "    <tr>\n",
       "      <th>1</th>\n",
       "      <td>0.111111</td>\n",
       "      <td>0.573639</td>\n",
       "      <td>0.567465</td>\n",
       "    </tr>\n",
       "    <tr>\n",
       "      <th>2</th>\n",
       "      <td>0.222222</td>\n",
       "      <td>0.573639</td>\n",
       "      <td>0.567465</td>\n",
       "    </tr>\n",
       "    <tr>\n",
       "      <th>3</th>\n",
       "      <td>0.333333</td>\n",
       "      <td>0.573639</td>\n",
       "      <td>0.567465</td>\n",
       "    </tr>\n",
       "    <tr>\n",
       "      <th>4</th>\n",
       "      <td>0.444444</td>\n",
       "      <td>0.573639</td>\n",
       "      <td>0.567465</td>\n",
       "    </tr>\n",
       "    <tr>\n",
       "      <th>5</th>\n",
       "      <td>0.555556</td>\n",
       "      <td>0.573639</td>\n",
       "      <td>0.567465</td>\n",
       "    </tr>\n",
       "    <tr>\n",
       "      <th>6</th>\n",
       "      <td>0.666667</td>\n",
       "      <td>0.573639</td>\n",
       "      <td>0.567466</td>\n",
       "    </tr>\n",
       "    <tr>\n",
       "      <th>7</th>\n",
       "      <td>0.777778</td>\n",
       "      <td>0.573639</td>\n",
       "      <td>0.567466</td>\n",
       "    </tr>\n",
       "    <tr>\n",
       "      <th>8</th>\n",
       "      <td>0.888889</td>\n",
       "      <td>0.573639</td>\n",
       "      <td>0.567466</td>\n",
       "    </tr>\n",
       "    <tr>\n",
       "      <th>9</th>\n",
       "      <td>1.000000</td>\n",
       "      <td>0.573639</td>\n",
       "      <td>0.567466</td>\n",
       "    </tr>\n",
       "  </tbody>\n",
       "</table>\n",
       "</div>"
      ],
      "text/plain": [
       "   alpha_val  RsqTrain   RsqTest\n",
       "0   0.000000  0.573639  0.567465\n",
       "1   0.111111  0.573639  0.567465\n",
       "2   0.222222  0.573639  0.567465\n",
       "3   0.333333  0.573639  0.567465\n",
       "4   0.444444  0.573639  0.567465\n",
       "5   0.555556  0.573639  0.567465\n",
       "6   0.666667  0.573639  0.567466\n",
       "7   0.777778  0.573639  0.567466\n",
       "8   0.888889  0.573639  0.567466\n",
       "9   1.000000  0.573639  0.567466"
      ]
     },
     "execution_count": 28,
     "metadata": {},
     "output_type": "execute_result"
    }
   ],
   "source": [
    "ridge_results_df = pd.DataFrame(ridge_results, columns=['alpha_val','RsqTrain', 'RsqTest'])\n",
    "ridge_results_df"
   ]
  },
  {
   "cell_type": "code",
   "execution_count": 29,
   "metadata": {},
   "outputs": [
    {
     "data": {
      "text/plain": [
       "<matplotlib.axes._subplots.AxesSubplot at 0x1772a7eb0b8>"
      ]
     },
     "execution_count": 29,
     "metadata": {},
     "output_type": "execute_result"
    },
    {
     "data": {
      "image/png": "[encoded data removed]",
      "text/plain": [
       "<matplotlib.figure.Figure at 0x1772b72b0b8>"
      ]
     },
     "metadata": {},
     "output_type": "display_data"
    }
   ],
   "source": [
    "# alpha RsqTest of 0.666667 is highest at 0.567466, so this is the \"best\" model of the hyperparameter tested, \n",
    "# however it doesn't look like that moved the needle at all.\n",
    "\n",
    "# plot results\n",
    "ridge_results_df.plot(x='alpha_val', y=['RsqTrain', 'RsqTest'])"
   ]
  },
  {
   "cell_type": "code",
   "execution_count": 30,
   "metadata": {},
   "outputs": [
    {
     "name": "stdout",
     "output_type": "stream",
     "text": [
      "Training set R^2 score: 0.57\n",
      "Test set R^2 score: 0.57\n"
     ]
    }
   ],
   "source": [
    "reg_bestfit = Ridge(alpha=0.666667)\n",
    "reg_bestfit.fit(X_train, y_train)\n",
    "print(\"Training set R^2 score: {:.2f}\".format(reg_bestfit.score(X_train, y_train))) \n",
    "print(\"Test set R^2 score: {:.2f}\".format(reg_bestfit.score(X_test, y_test)))"
   ]
  },
  {
   "cell_type": "markdown",
   "metadata": {},
   "source": [
    "# Build Supervised Model 3: Random Forest"
   ]
  },
  {
   "cell_type": "code",
   "execution_count": 31,
   "metadata": {},
   "outputs": [
    {
     "data": {
      "text/plain": [
       "RandomForestRegressor(bootstrap=True, criterion='mse', max_depth=None,\n",
       "           max_features='auto', max_leaf_nodes=None,\n",
       "           min_impurity_decrease=0.0, min_impurity_split=None,\n",
       "           min_samples_leaf=1, min_samples_split=2,\n",
       "           min_weight_fraction_leaf=0.0, n_estimators=10, n_jobs=None,\n",
       "           oob_score=False, random_state=None, verbose=0, warm_start=False)"
      ]
     },
     "execution_count": 31,
     "metadata": {},
     "output_type": "execute_result"
    }
   ],
   "source": [
    "# Predict median house value using RF Regression.\n",
    "# Will not need to resample data, will re-use X_train and y_train datasets as re-sample between algorithm runs would be changing\n",
    "# the input data and then we won't be able to tell which improved the fit\n",
    "\n",
    "#from sklearn.ensemble import RandomForestRegressor\n",
    "regr = RandomForestRegressor()\n",
    "regr.fit(X_train, y_train)"
   ]
  },
  {
   "cell_type": "code",
   "execution_count": 32,
   "metadata": {},
   "outputs": [
    {
     "name": "stdout",
     "output_type": "stream",
     "text": [
      "Training set R^2 score: 0.96\n",
      "Training set R^2 score: 0.77\n"
     ]
    }
   ],
   "source": [
    "# Just using the defaults, it provides a model fit of 0.96. Which when we see a score\n",
    "# this high, it almost certainly means the model is overfit. When we score the test set, we see a fit of 0.76,\n",
    "# which is quite a bit of deterioration compared to the training set. So we should try to set of inputs,\n",
    "# such that the performance between the training and test sets are possibly improved. \n",
    "\n",
    "print(\"Training set R^2 score: {:.2f}\".format(regr.score(X_train, y_train)))\n",
    "print(\"Training set R^2 score: {:.2f}\".format(regr.score(X_test, y_test)))"
   ]
  },
  {
   "cell_type": "code",
   "execution_count": 33,
   "metadata": {},
   "outputs": [],
   "source": [
    "# Because we suspect the model is overfitting, it suggests that modifying hyperparameters such as \n",
    "# max_depth (the number of variable interactions) and min_samples_leaf (the number of data points \n",
    "# in any given segment of data) may help. So requiring a minimum number of data points in a segment, \n",
    "# we likely get a more generalized model, instead of the current default of a minimum of 1 value in each leaf\n",
    "\n",
    "# Vary min_samples_leaf with loop through\n",
    "rf_results = []\n",
    "for i in range(1, 20):\n",
    "    # make predictions using looped neighbors\n",
    "    regr_loop = RandomForestRegressor(min_samples_leaf=i, random_state=321)\n",
    "    regr_loop.fit(X_train, y_train)\n",
    "    rf_results.append((i, regr_loop.score(X_train, y_train), regr_loop.score(X_test, y_test)))"
   ]
  },
  {
   "cell_type": "code",
   "execution_count": 34,
   "metadata": {},
   "outputs": [
    {
     "data": {
      "text/html": [
       "<div>\n",
       "<style scoped>\n",
       "    .dataframe tbody tr th:only-of-type {\n",
       "        vertical-align: middle;\n",
       "    }\n",
       "\n",
       "    .dataframe tbody tr th {\n",
       "        vertical-align: top;\n",
       "    }\n",
       "\n",
       "    .dataframe thead th {\n",
       "        text-align: right;\n",
       "    }\n",
       "</style>\n",
       "<table border=\"1\" class=\"dataframe\">\n",
       "  <thead>\n",
       "    <tr style=\"text-align: right;\">\n",
       "      <th></th>\n",
       "      <th>min_samples_leaf</th>\n",
       "      <th>RsqTrain</th>\n",
       "      <th>RsqTest</th>\n",
       "    </tr>\n",
       "  </thead>\n",
       "  <tbody>\n",
       "    <tr>\n",
       "      <th>0</th>\n",
       "      <td>1</td>\n",
       "      <td>0.958216</td>\n",
       "      <td>0.765649</td>\n",
       "    </tr>\n",
       "    <tr>\n",
       "      <th>1</th>\n",
       "      <td>2</td>\n",
       "      <td>0.941529</td>\n",
       "      <td>0.764991</td>\n",
       "    </tr>\n",
       "    <tr>\n",
       "      <th>2</th>\n",
       "      <td>3</td>\n",
       "      <td>0.922579</td>\n",
       "      <td>0.768181</td>\n",
       "    </tr>\n",
       "    <tr>\n",
       "      <th>3</th>\n",
       "      <td>4</td>\n",
       "      <td>0.904494</td>\n",
       "      <td>0.771128</td>\n",
       "    </tr>\n",
       "    <tr>\n",
       "      <th>4</th>\n",
       "      <td>5</td>\n",
       "      <td>0.889148</td>\n",
       "      <td>0.773620</td>\n",
       "    </tr>\n",
       "    <tr>\n",
       "      <th>5</th>\n",
       "      <td>6</td>\n",
       "      <td>0.877396</td>\n",
       "      <td>0.772079</td>\n",
       "    </tr>\n",
       "    <tr>\n",
       "      <th>6</th>\n",
       "      <td>7</td>\n",
       "      <td>0.866758</td>\n",
       "      <td>0.770893</td>\n",
       "    </tr>\n",
       "    <tr>\n",
       "      <th>7</th>\n",
       "      <td>8</td>\n",
       "      <td>0.858305</td>\n",
       "      <td>0.770138</td>\n",
       "    </tr>\n",
       "    <tr>\n",
       "      <th>8</th>\n",
       "      <td>9</td>\n",
       "      <td>0.850478</td>\n",
       "      <td>0.768411</td>\n",
       "    </tr>\n",
       "    <tr>\n",
       "      <th>9</th>\n",
       "      <td>10</td>\n",
       "      <td>0.843813</td>\n",
       "      <td>0.768922</td>\n",
       "    </tr>\n",
       "    <tr>\n",
       "      <th>10</th>\n",
       "      <td>11</td>\n",
       "      <td>0.836819</td>\n",
       "      <td>0.765973</td>\n",
       "    </tr>\n",
       "    <tr>\n",
       "      <th>11</th>\n",
       "      <td>12</td>\n",
       "      <td>0.831232</td>\n",
       "      <td>0.765034</td>\n",
       "    </tr>\n",
       "    <tr>\n",
       "      <th>12</th>\n",
       "      <td>13</td>\n",
       "      <td>0.826486</td>\n",
       "      <td>0.764463</td>\n",
       "    </tr>\n",
       "    <tr>\n",
       "      <th>13</th>\n",
       "      <td>14</td>\n",
       "      <td>0.820905</td>\n",
       "      <td>0.760824</td>\n",
       "    </tr>\n",
       "    <tr>\n",
       "      <th>14</th>\n",
       "      <td>15</td>\n",
       "      <td>0.816120</td>\n",
       "      <td>0.757998</td>\n",
       "    </tr>\n",
       "    <tr>\n",
       "      <th>15</th>\n",
       "      <td>16</td>\n",
       "      <td>0.811225</td>\n",
       "      <td>0.755709</td>\n",
       "    </tr>\n",
       "    <tr>\n",
       "      <th>16</th>\n",
       "      <td>17</td>\n",
       "      <td>0.807530</td>\n",
       "      <td>0.754179</td>\n",
       "    </tr>\n",
       "    <tr>\n",
       "      <th>17</th>\n",
       "      <td>18</td>\n",
       "      <td>0.804235</td>\n",
       "      <td>0.752433</td>\n",
       "    </tr>\n",
       "    <tr>\n",
       "      <th>18</th>\n",
       "      <td>19</td>\n",
       "      <td>0.800879</td>\n",
       "      <td>0.750202</td>\n",
       "    </tr>\n",
       "  </tbody>\n",
       "</table>\n",
       "</div>"
      ],
      "text/plain": [
       "    min_samples_leaf  RsqTrain   RsqTest\n",
       "0                  1  0.958216  0.765649\n",
       "1                  2  0.941529  0.764991\n",
       "2                  3  0.922579  0.768181\n",
       "3                  4  0.904494  0.771128\n",
       "4                  5  0.889148  0.773620\n",
       "5                  6  0.877396  0.772079\n",
       "6                  7  0.866758  0.770893\n",
       "7                  8  0.858305  0.770138\n",
       "8                  9  0.850478  0.768411\n",
       "9                 10  0.843813  0.768922\n",
       "10                11  0.836819  0.765973\n",
       "11                12  0.831232  0.765034\n",
       "12                13  0.826486  0.764463\n",
       "13                14  0.820905  0.760824\n",
       "14                15  0.816120  0.757998\n",
       "15                16  0.811225  0.755709\n",
       "16                17  0.807530  0.754179\n",
       "17                18  0.804235  0.752433\n",
       "18                19  0.800879  0.750202"
      ]
     },
     "execution_count": 34,
     "metadata": {},
     "output_type": "execute_result"
    }
   ],
   "source": [
    "rf_results_df = pd.DataFrame(rf_results, columns=['min_samples_leaf','RsqTrain', 'RsqTest'])\n",
    "rf_results_df"
   ]
  },
  {
   "cell_type": "code",
   "execution_count": 35,
   "metadata": {},
   "outputs": [
    {
     "data": {
      "text/plain": [
       "<matplotlib.axes._subplots.AxesSubplot at 0x1772afd9518>"
      ]
     },
     "execution_count": 35,
     "metadata": {},
     "output_type": "execute_result"
    },
    {
     "data": {
      "image/png": "[encoded data removed]",
      "text/plain": [
       "<matplotlib.figure.Figure at 0x1772afcf748>"
      ]
     },
     "metadata": {},
     "output_type": "display_data"
    }
   ],
   "source": [
    "# min_samples_leaf RsqTest of 5 is highest at 0.773620, so this is the \"best\" model of the hyperparameters we tested. \n",
    "# With larger datasets we would set the min_values_leaf to several hundred, or even 1% of the overall sample.\n",
    "\n",
    "rf_results_df.plot(x='min_samples_leaf', y=['RsqTrain', 'RsqTest'])"
   ]
  },
  {
   "cell_type": "markdown",
   "metadata": {},
   "source": [
    "# Assess and Select best model"
   ]
  },
  {
   "cell_type": "code",
   "execution_count": 36,
   "metadata": {},
   "outputs": [
    {
     "name": "stdout",
     "output_type": "stream",
     "text": [
      "Training set R^2 score: 0.35\n",
      "Test set R^2 score: 0.12\n"
     ]
    }
   ],
   "source": [
    "# Assessing KNN with 6 neighbors as best fit\n",
    "reg_bestfit = KNeighborsRegressor(n_neighbors=6)\n",
    "reg_bestfit.fit(X_train, y_train)\n",
    "print(\"Training set R^2 score: {:.2f}\".format(reg_bestfit.score(X_train, y_train))) \n",
    "print(\"Test set R^2 score: {:.2f}\".format(reg_bestfit.score(X_test, y_test)))"
   ]
  },
  {
   "cell_type": "code",
   "execution_count": 37,
   "metadata": {},
   "outputs": [
    {
     "name": "stdout",
     "output_type": "stream",
     "text": [
      "Training set R^2 score: 0.57\n",
      "Test set R^2 score: 0.57\n"
     ]
    }
   ],
   "source": [
    "# Assessing Ridge Regressor with alpha of .666667 as best fit\n",
    "reg_bestfit = Ridge(alpha=.666667)\n",
    "reg_bestfit.fit(X_train, y_train)\n",
    "print(\"Training set R^2 score: {:.2f}\".format(reg_bestfit.score(X_train, y_train))) \n",
    "print(\"Test set R^2 score: {:.2f}\".format(reg_bestfit.score(X_test, y_test)))"
   ]
  },
  {
   "cell_type": "code",
   "execution_count": 38,
   "metadata": {},
   "outputs": [
    {
     "name": "stdout",
     "output_type": "stream",
     "text": [
      "Training set R^2 score: 0.89\n",
      "Test set R^2 score: 0.77\n"
     ]
    }
   ],
   "source": [
    "# Assessing Random Forest Regression with min_samples_leaf of 5\n",
    "reg_bestfit = RandomForestRegressor(min_samples_leaf=5)\n",
    "reg_bestfit.fit(X_train, y_train)\n",
    "print(\"Training set R^2 score: {:.2f}\".format(reg_bestfit.score(X_train, y_train))) \n",
    "print(\"Test set R^2 score: {:.2f}\".format(reg_bestfit.score(X_test, y_test)))"
   ]
  },
  {
   "cell_type": "markdown",
   "metadata": {},
   "source": [
    "##    Conclusions\n",
    "* KNN shows the more believable model than Ridge Regressor as there is variance between the training and test set. Pros:  Doesn’t require any assumptions about the data or its distributions (i.e. it’s “nonparametric”), which means it is not sensitive to high correlation between data features. Cons: Because the optimization metric is “closeness”, it does depend on the amount of data we have, and our 20k sample may not be enough to reach parity.\n",
    "\n",
    "* Tried Ridge Regressor because it has regularization, but realize that this is not the best model type to fit the data set. This is why alpha of .66667 was showing the 'best' score but negligibly moved the needle, because the coefficients were being barely restricted. Pros: Ridge regression is a parametric methods and assumes something about the data distribution, such as having normally distributed residuals. Ridge regression normalizes the model coefficients, which helps in scenarios where you do have high-correlations between data features. Cons: In the case of our CA Housing data, there were no high-correlations, non-linear data.\n",
    "\n",
    "* Random Forest has the best fit model of all three and is more believeable with the tuned hyperparameter of min_samples_leaf. The Training set and Test set scores have a believeable variance and the test set score is lower than the training fit as it should be. Pros: Random Forest uses lots of different models as set by the n_estimator hyperparameter. By sampling some of the rows, and some of the features for each model, we can model lots of different subsets of the data, finding additional information that we don’t get by picking a single “best” model. Cons: Because we can fit huge numbers of models, random forest can take a long time to calculate and is more prone to overfitting such as we saw with the default values. However, as the hyperparameter of min_samples_leaf tuned the model, we saw a believeable improvement and should pick Random Forest as our best fit model. "
   ]
  }
 ],
 "metadata": {
  "kernelspec": {
   "display_name": "Python 3",
   "language": "python",
   "name": "python3"
  },
  "language_info": {
   "codemirror_mode": {
    "name": "ipython",
    "version": 3
   },
   "file_extension": ".py",
   "mimetype": "text/x-python",
   "name": "python",
   "nbconvert_exporter": "python",
   "pygments_lexer": "ipython3",
   "version": "3.6.8"
  }
 },
 "nbformat": 4,
 "nbformat_minor": 2
}
