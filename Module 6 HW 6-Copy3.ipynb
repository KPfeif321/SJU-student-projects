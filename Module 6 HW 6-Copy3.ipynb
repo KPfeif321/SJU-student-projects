{
 "cells": [
  {
   "cell_type": "markdown",
   "metadata": {},
   "source": [
    "# Imports"
   ]
  },
  {
   "cell_type": "code",
   "execution_count": 1,
   "metadata": {},
   "outputs": [],
   "source": [
    "# Imports\n",
    "import numpy as np\n",
    "import pandas as pd\n",
    "import graphviz\n",
    "import mglearn as mglearn\n",
    "import mglearn.plots\n",
    "import mglearn.datasets\n",
    "import matplotlib.pyplot as plt\n",
    "# ensures plots are inlined for the notebook presentation\n",
    "%matplotlib inline \n",
    "import scipy as sp\n",
    "from scipy import stats\n",
    "from scipy.cluster.hierarchy import dendrogram, ward\n",
    "import time\n",
    "from IPython.display import display\n",
    "import seaborn as sns\n",
    "import os\n",
    "import tensorflow as tf"
   ]
  },
  {
   "cell_type": "code",
   "execution_count": 2,
   "metadata": {},
   "outputs": [],
   "source": [
    "# Sci-Kit Imports\n",
    "import sklearn as sklearn\n",
    "from sklearn import metrics\n",
    "from sklearn.metrics import mean_squared_error\n",
    "from sklearn.metrics.cluster import adjusted_rand_score\n",
    "from sklearn.metrics.cluster import silhouette_score\n",
    "from sklearn.metrics import accuracy_score\n",
    "from sklearn.metrics import roc_curve, auc\n",
    "from sklearn.metrics import confusion_matrix, classification_report\n",
    "# from sklearn.multiclass import OneVsRestClassifier\n",
    "from sklearn.model_selection import train_test_split\n",
    "# from sklearn.linear_model import LinearRegression\n",
    "# from sklearn.linear_model import Ridge\n",
    "# from sklearn.linear_model import Lasso\n",
    "# from sklearn.linear_model import LogisticRegression\n",
    "# from sklearn.tree import DecisionTreeRegressor\n",
    "# from sklearn.tree import DecisionTreeClassifier\n",
    "from sklearn.ensemble import RandomForestClassifier\n",
    "# from sklearn.ensemble import GradientBoostingClassifier\n",
    "# from sklearn.naive_bayes import GaussianNB, BernoulliNB, MultinomialNB\n",
    "# from sklearn.svm import LinearSVC\n",
    "# from sklearn.svm import SVC\n",
    "# from sklearn.neural_network import MLPClassifier\n",
    "# from sklearn.neighbors import KNeighborsClassifier\n",
    "# from sklearn.neighbors import KNeighborsRegressor\n",
    "from sklearn.pipeline import make_pipeline\n",
    "from sklearn.preprocessing import MinMaxScaler\n",
    "from sklearn.preprocessing import StandardScaler\n",
    "from sklearn.decomposition import PCA\n",
    "# from sklearn.decomposition import NMF\n",
    "# from sklearn.manifold import TSNE\n",
    "# from sklearn.cluster import KMeans\n",
    "# from sklearn.cluster import AgglomerativeClustering\n",
    "# from sklearn.cluster import DBSCAN\n",
    "\n",
    "# import sklearn.datasets as datasets\n",
    "# from sklearn.datasets import make_blobs\n",
    "# from sklearn.datasets import load_breast_cancer\n",
    "# from sklearn.datasets import fetch_lfw_people\n",
    "# from sklearn.datasets import load_digits\n",
    "# from sklearn.datasets import make_moons\n",
    "# from sklearn.datasets import make_circles\n",
    "from sklearn.datasets import load_wine"
   ]
  },
  {
   "cell_type": "code",
   "execution_count": 3,
   "metadata": {},
   "outputs": [],
   "source": [
    "# Mute warnings\n",
    "import warnings\n",
    "warnings.simplefilter(action='ignore', category=DeprecationWarning)\n",
    "warnings.simplefilter(action='ignore', category=FutureWarning)\n",
    "warnings.simplefilter(action='ignore', category=UserWarning)\n",
    "# warnings.simplefilter(action='ignore', category=WARNING)"
   ]
  },
  {
   "cell_type": "markdown",
   "metadata": {},
   "source": [
    "# Preprocess Wine data and transform"
   ]
  },
  {
   "cell_type": "code",
   "execution_count": 4,
   "metadata": {},
   "outputs": [
    {
     "name": "stdout",
     "output_type": "stream",
     "text": [
      "data \n",
      " [[1.423e+01 1.710e+00 2.430e+00 ... 1.040e+00 3.920e+00 1.065e+03]\n",
      " [1.320e+01 1.780e+00 2.140e+00 ... 1.050e+00 3.400e+00 1.050e+03]\n",
      " [1.316e+01 2.360e+00 2.670e+00 ... 1.030e+00 3.170e+00 1.185e+03]\n",
      " ...\n",
      " [1.327e+01 4.280e+00 2.260e+00 ... 5.900e-01 1.560e+00 8.350e+02]\n",
      " [1.317e+01 2.590e+00 2.370e+00 ... 6.000e-01 1.620e+00 8.400e+02]\n",
      " [1.413e+01 4.100e+00 2.740e+00 ... 6.100e-01 1.600e+00 5.600e+02]] \n",
      "\n",
      "target \n",
      " [0 0 0 0 0 0 0 0 0 0 0 0 0 0 0 0 0 0 0 0 0 0 0 0 0 0 0 0 0 0 0 0 0 0 0 0 0\n",
      " 0 0 0 0 0 0 0 0 0 0 0 0 0 0 0 0 0 0 0 0 0 0 1 1 1 1 1 1 1 1 1 1 1 1 1 1 1\n",
      " 1 1 1 1 1 1 1 1 1 1 1 1 1 1 1 1 1 1 1 1 1 1 1 1 1 1 1 1 1 1 1 1 1 1 1 1 1\n",
      " 1 1 1 1 1 1 1 1 1 1 1 1 1 1 1 1 1 1 1 2 2 2 2 2 2 2 2 2 2 2 2 2 2 2 2 2 2\n",
      " 2 2 2 2 2 2 2 2 2 2 2 2 2 2 2 2 2 2 2 2 2 2 2 2 2 2 2 2 2 2] \n",
      "\n",
      "target_names \n",
      " ['class_0' 'class_1' 'class_2'] \n",
      "\n",
      "DESCR \n",
      " .. _wine_dataset:\n",
      "\n",
      "Wine recognition dataset\n",
      "------------------------\n",
      "\n",
      "**Data Set Characteristics:**\n",
      "\n",
      "    :Number of Instances: 178 (50 in each of three classes)\n",
      "    :Number of Attributes: 13 numeric, predictive attributes and the class\n",
      "    :Attribute Information:\n",
      " \t\t- Alcohol\n",
      " \t\t- Malic acid\n",
      " \t\t- Ash\n",
      "\t\t- Alcalinity of ash  \n",
      " \t\t- Magnesium\n",
      "\t\t- Total phenols\n",
      " \t\t- Flavanoids\n",
      " \t\t- Nonflavanoid phenols\n",
      " \t\t- Proanthocyanins\n",
      "\t\t- Color intensity\n",
      " \t\t- Hue\n",
      " \t\t- OD280/OD315 of diluted wines\n",
      " \t\t- Proline\n",
      "\n",
      "    - class:\n",
      "            - class_0\n",
      "            - class_1\n",
      "            - class_2\n",
      "\t\t\n",
      "    :Summary Statistics:\n",
      "    \n",
      "    ============================= ==== ===== ======= =====\n",
      "                                   Min   Max   Mean     SD\n",
      "    ============================= ==== ===== ======= =====\n",
      "    Alcohol:                      11.0  14.8    13.0   0.8\n",
      "    Malic Acid:                   0.74  5.80    2.34  1.12\n",
      "    Ash:                          1.36  3.23    2.36  0.27\n",
      "    Alcalinity of Ash:            10.6  30.0    19.5   3.3\n",
      "    Magnesium:                    70.0 162.0    99.7  14.3\n",
      "    Total Phenols:                0.98  3.88    2.29  0.63\n",
      "    Flavanoids:                   0.34  5.08    2.03  1.00\n",
      "    Nonflavanoid Phenols:         0.13  0.66    0.36  0.12\n",
      "    Proanthocyanins:              0.41  3.58    1.59  0.57\n",
      "    Colour Intensity:              1.3  13.0     5.1   2.3\n",
      "    Hue:                          0.48  1.71    0.96  0.23\n",
      "    OD280/OD315 of diluted wines: 1.27  4.00    2.61  0.71\n",
      "    Proline:                       278  1680     746   315\n",
      "    ============================= ==== ===== ======= =====\n",
      "\n",
      "    :Missing Attribute Values: None\n",
      "    :Class Distribution: class_0 (59), class_1 (71), class_2 (48)\n",
      "    :Creator: R.A. Fisher\n",
      "    :Donor: Michael Marshall (MARSHALL%PLU@io.arc.nasa.gov)\n",
      "    :Date: July, 1988\n",
      "\n",
      "This is a copy of UCI ML Wine recognition datasets.\n",
      "https://archive.ics.uci.edu/ml/machine-learning-databases/wine/wine.data\n",
      "\n",
      "The data is the results of a chemical analysis of wines grown in the same\n",
      "region in Italy by three different cultivators. There are thirteen different\n",
      "measurements taken for different constituents found in the three types of\n",
      "wine.\n",
      "\n",
      "Original Owners: \n",
      "\n",
      "Forina, M. et al, PARVUS - \n",
      "An Extendible Package for Data Exploration, Classification and Correlation. \n",
      "Institute of Pharmaceutical and Food Analysis and Technologies,\n",
      "Via Brigata Salerno, 16147 Genoa, Italy.\n",
      "\n",
      "Citation:\n",
      "\n",
      "Lichman, M. (2013). UCI Machine Learning Repository\n",
      "[http://archive.ics.uci.edu/ml]. Irvine, CA: University of California,\n",
      "School of Information and Computer Science. \n",
      "\n",
      ".. topic:: References\n",
      "\n",
      "  (1) S. Aeberhard, D. Coomans and O. de Vel, \n",
      "  Comparison of Classifiers in High Dimensional Settings, \n",
      "  Tech. Rep. no. 92-02, (1992), Dept. of Computer Science and Dept. of  \n",
      "  Mathematics and Statistics, James Cook University of North Queensland. \n",
      "  (Also submitted to Technometrics). \n",
      "\n",
      "  The data was used with many others for comparing various \n",
      "  classifiers. The classes are separable, though only RDA \n",
      "  has achieved 100% correct classification. \n",
      "  (RDA : 100%, QDA 99.4%, LDA 98.9%, 1NN 96.1% (z-transformed data)) \n",
      "  (All results using the leave-one-out technique) \n",
      "\n",
      "  (2) S. Aeberhard, D. Coomans and O. de Vel, \n",
      "  \"THE CLASSIFICATION PERFORMANCE OF RDA\" \n",
      "  Tech. Rep. no. 92-01, (1992), Dept. of Computer Science and Dept. of \n",
      "  Mathematics and Statistics, James Cook University of North Queensland. \n",
      "  (Also submitted to Journal of Chemometrics).\n",
      " \n",
      "\n",
      "feature_names \n",
      " ['alcohol', 'malic_acid', 'ash', 'alcalinity_of_ash', 'magnesium', 'total_phenols', 'flavanoids', 'nonflavanoid_phenols', 'proanthocyanins', 'color_intensity', 'hue', 'od280/od315_of_diluted_wines', 'proline'] \n",
      "\n"
     ]
    }
   ],
   "source": [
    "# Load Wine data set, and describe\n",
    "# from sklearn.datasets import load_wine\n",
    "wine = load_wine(return_X_y=False)\n",
    "\n",
    "#print(wine['DESCR'])\n",
    "\n",
    "for key,value in wine.items():\n",
    "    print(key,'\\n',value,'\\n')"
   ]
  },
  {
   "cell_type": "code",
   "execution_count": 5,
   "metadata": {},
   "outputs": [
    {
     "data": {
      "text/html": [
       "<div>\n",
       "<style scoped>\n",
       "    .dataframe tbody tr th:only-of-type {\n",
       "        vertical-align: middle;\n",
       "    }\n",
       "\n",
       "    .dataframe tbody tr th {\n",
       "        vertical-align: top;\n",
       "    }\n",
       "\n",
       "    .dataframe thead th {\n",
       "        text-align: right;\n",
       "    }\n",
       "</style>\n",
       "<table border=\"1\" class=\"dataframe\">\n",
       "  <thead>\n",
       "    <tr style=\"text-align: right;\">\n",
       "      <th></th>\n",
       "      <th>Target</th>\n",
       "      <th>alcohol</th>\n",
       "      <th>malic_acid</th>\n",
       "      <th>ash</th>\n",
       "      <th>alcalinity_of_ash</th>\n",
       "      <th>magnesium</th>\n",
       "      <th>total_phenols</th>\n",
       "      <th>flavanoids</th>\n",
       "      <th>nonflavanoid_phenols</th>\n",
       "      <th>proanthocyanins</th>\n",
       "      <th>color_intensity</th>\n",
       "      <th>hue</th>\n",
       "      <th>od280/od315_of_diluted_wines</th>\n",
       "      <th>proline</th>\n",
       "    </tr>\n",
       "  </thead>\n",
       "  <tbody>\n",
       "    <tr>\n",
       "      <th>0</th>\n",
       "      <td>0</td>\n",
       "      <td>14.23</td>\n",
       "      <td>1.71</td>\n",
       "      <td>2.43</td>\n",
       "      <td>15.6</td>\n",
       "      <td>127.0</td>\n",
       "      <td>2.80</td>\n",
       "      <td>3.06</td>\n",
       "      <td>0.28</td>\n",
       "      <td>2.29</td>\n",
       "      <td>5.64</td>\n",
       "      <td>1.04</td>\n",
       "      <td>3.92</td>\n",
       "      <td>1065.0</td>\n",
       "    </tr>\n",
       "    <tr>\n",
       "      <th>1</th>\n",
       "      <td>0</td>\n",
       "      <td>13.20</td>\n",
       "      <td>1.78</td>\n",
       "      <td>2.14</td>\n",
       "      <td>11.2</td>\n",
       "      <td>100.0</td>\n",
       "      <td>2.65</td>\n",
       "      <td>2.76</td>\n",
       "      <td>0.26</td>\n",
       "      <td>1.28</td>\n",
       "      <td>4.38</td>\n",
       "      <td>1.05</td>\n",
       "      <td>3.40</td>\n",
       "      <td>1050.0</td>\n",
       "    </tr>\n",
       "    <tr>\n",
       "      <th>2</th>\n",
       "      <td>0</td>\n",
       "      <td>13.16</td>\n",
       "      <td>2.36</td>\n",
       "      <td>2.67</td>\n",
       "      <td>18.6</td>\n",
       "      <td>101.0</td>\n",
       "      <td>2.80</td>\n",
       "      <td>3.24</td>\n",
       "      <td>0.30</td>\n",
       "      <td>2.81</td>\n",
       "      <td>5.68</td>\n",
       "      <td>1.03</td>\n",
       "      <td>3.17</td>\n",
       "      <td>1185.0</td>\n",
       "    </tr>\n",
       "    <tr>\n",
       "      <th>3</th>\n",
       "      <td>0</td>\n",
       "      <td>14.37</td>\n",
       "      <td>1.95</td>\n",
       "      <td>2.50</td>\n",
       "      <td>16.8</td>\n",
       "      <td>113.0</td>\n",
       "      <td>3.85</td>\n",
       "      <td>3.49</td>\n",
       "      <td>0.24</td>\n",
       "      <td>2.18</td>\n",
       "      <td>7.80</td>\n",
       "      <td>0.86</td>\n",
       "      <td>3.45</td>\n",
       "      <td>1480.0</td>\n",
       "    </tr>\n",
       "    <tr>\n",
       "      <th>4</th>\n",
       "      <td>0</td>\n",
       "      <td>13.24</td>\n",
       "      <td>2.59</td>\n",
       "      <td>2.87</td>\n",
       "      <td>21.0</td>\n",
       "      <td>118.0</td>\n",
       "      <td>2.80</td>\n",
       "      <td>2.69</td>\n",
       "      <td>0.39</td>\n",
       "      <td>1.82</td>\n",
       "      <td>4.32</td>\n",
       "      <td>1.04</td>\n",
       "      <td>2.93</td>\n",
       "      <td>735.0</td>\n",
       "    </tr>\n",
       "  </tbody>\n",
       "</table>\n",
       "</div>"
      ],
      "text/plain": [
       "   Target  alcohol  malic_acid   ash  alcalinity_of_ash  magnesium  \\\n",
       "0       0    14.23        1.71  2.43               15.6      127.0   \n",
       "1       0    13.20        1.78  2.14               11.2      100.0   \n",
       "2       0    13.16        2.36  2.67               18.6      101.0   \n",
       "3       0    14.37        1.95  2.50               16.8      113.0   \n",
       "4       0    13.24        2.59  2.87               21.0      118.0   \n",
       "\n",
       "   total_phenols  flavanoids  nonflavanoid_phenols  proanthocyanins  \\\n",
       "0           2.80        3.06                  0.28             2.29   \n",
       "1           2.65        2.76                  0.26             1.28   \n",
       "2           2.80        3.24                  0.30             2.81   \n",
       "3           3.85        3.49                  0.24             2.18   \n",
       "4           2.80        2.69                  0.39             1.82   \n",
       "\n",
       "   color_intensity   hue  od280/od315_of_diluted_wines  proline  \n",
       "0             5.64  1.04                          3.92   1065.0  \n",
       "1             4.38  1.05                          3.40   1050.0  \n",
       "2             5.68  1.03                          3.17   1185.0  \n",
       "3             7.80  0.86                          3.45   1480.0  \n",
       "4             4.32  1.04                          2.93    735.0  "
      ]
     },
     "execution_count": 5,
     "metadata": {},
     "output_type": "execute_result"
    }
   ],
   "source": [
    "# Create Pandas DataFrame\n",
    "wine_X = pd.DataFrame(wine.data, columns=wine.feature_names)\n",
    "wine_y = pd.DataFrame(wine.target, columns=['Target'])\n",
    "\n",
    "wine_df = pd.concat([wine_y, wine_X], axis=1)\n",
    "wine_df.head()"
   ]
  },
  {
   "cell_type": "code",
   "execution_count": 6,
   "metadata": {},
   "outputs": [
    {
     "data": {
      "text/plain": [
       "<matplotlib.legend.Legend at 0x1403f6ce0f0>"
      ]
     },
     "execution_count": 6,
     "metadata": {},
     "output_type": "execute_result"
    },
    {
     "data": {
      "image/png": "[encoded data removed]",
      "text/plain": [
       "<Figure size 432x288 with 1 Axes>"
      ]
     },
     "metadata": {
      "needs_background": "light"
     },
     "output_type": "display_data"
    }
   ],
   "source": [
    "# Plot the Target as separated by distinct alcohol distributions showing three relatively\n",
    "# separate classes\n",
    "for i in wine_df.Target.unique():\n",
    "    sns.distplot(wine_df['alcohol'][wine_df.Target==i],\n",
    "                 kde=1,label='{}'.format(i))\n",
    "\n",
    "plt.legend()"
   ]
  },
  {
   "cell_type": "code",
   "execution_count": 7,
   "metadata": {},
   "outputs": [
    {
     "data": {
      "image/png": "[encoded data removed]",
      "text/plain": [
       "<Figure size 720x360 with 2 Axes>"
      ]
     },
     "metadata": {
      "needs_background": "light"
     },
     "output_type": "display_data"
    }
   ],
   "source": [
    "# Plot Correlation Heatmap\n",
    "plt.figure(figsize=(10,5))\n",
    "ax = plt.axes()\n",
    "corr = wine_df.corr()\n",
    "sns.heatmap(corr, ax=ax, xticklabels=corr.columns.values,yticklabels=corr.columns.values)\n",
    "ax.set_title('Wine Correlation Heatmap', fontsize=15)\n",
    "plt.show()\n",
    "\n",
    "# NOTE: total_phenols and flavanoids show a high correlation appearing to be above or about 0.8 \n",
    "#       on our correlation heatmap"
   ]
  },
  {
   "cell_type": "markdown",
   "metadata": {},
   "source": [
    "# Random Forest Classifier model 1"
   ]
  },
  {
   "cell_type": "code",
   "execution_count": 8,
   "metadata": {},
   "outputs": [
    {
     "name": "stdout",
     "output_type": "stream",
     "text": [
      "Accuracy (forest): 0.93\n"
     ]
    }
   ],
   "source": [
    "# Random Forest with no feature selection to remove unnecessary variables\n",
    "# Train Test Split\n",
    "X_train, X_test, y_train, y_test = train_test_split(wine_X, wine_y, \n",
    "                                                    test_size=0.30, random_state=321)\n",
    "rf1 = RandomForestClassifier(random_state=321)\n",
    "rf1.fit(X_train, y_train)\n",
    "\n",
    "y_pred = rf1.predict(X_test)\n",
    "print('Accuracy (forest): %.2f' % accuracy_score(y_test, y_pred))\n",
    "\n",
    "# NOTE: Basic RFC has a 93% accuracy score"
   ]
  },
  {
   "cell_type": "markdown",
   "metadata": {},
   "source": [
    "### Feature selection (drop feature) with multicollinearity "
   ]
  },
  {
   "cell_type": "code",
   "execution_count": 9,
   "metadata": {},
   "outputs": [
    {
     "data": {
      "text/html": [
       "<div>\n",
       "<style scoped>\n",
       "    .dataframe tbody tr th:only-of-type {\n",
       "        vertical-align: middle;\n",
       "    }\n",
       "\n",
       "    .dataframe tbody tr th {\n",
       "        vertical-align: top;\n",
       "    }\n",
       "\n",
       "    .dataframe thead th {\n",
       "        text-align: right;\n",
       "    }\n",
       "</style>\n",
       "<table border=\"1\" class=\"dataframe\">\n",
       "  <thead>\n",
       "    <tr style=\"text-align: right;\">\n",
       "      <th></th>\n",
       "      <th>Target</th>\n",
       "      <th>alcohol</th>\n",
       "      <th>malic_acid</th>\n",
       "      <th>ash</th>\n",
       "      <th>alcalinity_of_ash</th>\n",
       "      <th>magnesium</th>\n",
       "      <th>flavanoids</th>\n",
       "      <th>nonflavanoid_phenols</th>\n",
       "      <th>proanthocyanins</th>\n",
       "      <th>color_intensity</th>\n",
       "      <th>hue</th>\n",
       "      <th>od280/od315_of_diluted_wines</th>\n",
       "      <th>proline</th>\n",
       "    </tr>\n",
       "  </thead>\n",
       "  <tbody>\n",
       "    <tr>\n",
       "      <th>0</th>\n",
       "      <td>0</td>\n",
       "      <td>14.23</td>\n",
       "      <td>1.71</td>\n",
       "      <td>2.43</td>\n",
       "      <td>15.6</td>\n",
       "      <td>127.0</td>\n",
       "      <td>3.06</td>\n",
       "      <td>0.28</td>\n",
       "      <td>2.29</td>\n",
       "      <td>5.64</td>\n",
       "      <td>1.04</td>\n",
       "      <td>3.92</td>\n",
       "      <td>1065.0</td>\n",
       "    </tr>\n",
       "    <tr>\n",
       "      <th>1</th>\n",
       "      <td>0</td>\n",
       "      <td>13.20</td>\n",
       "      <td>1.78</td>\n",
       "      <td>2.14</td>\n",
       "      <td>11.2</td>\n",
       "      <td>100.0</td>\n",
       "      <td>2.76</td>\n",
       "      <td>0.26</td>\n",
       "      <td>1.28</td>\n",
       "      <td>4.38</td>\n",
       "      <td>1.05</td>\n",
       "      <td>3.40</td>\n",
       "      <td>1050.0</td>\n",
       "    </tr>\n",
       "    <tr>\n",
       "      <th>2</th>\n",
       "      <td>0</td>\n",
       "      <td>13.16</td>\n",
       "      <td>2.36</td>\n",
       "      <td>2.67</td>\n",
       "      <td>18.6</td>\n",
       "      <td>101.0</td>\n",
       "      <td>3.24</td>\n",
       "      <td>0.30</td>\n",
       "      <td>2.81</td>\n",
       "      <td>5.68</td>\n",
       "      <td>1.03</td>\n",
       "      <td>3.17</td>\n",
       "      <td>1185.0</td>\n",
       "    </tr>\n",
       "    <tr>\n",
       "      <th>3</th>\n",
       "      <td>0</td>\n",
       "      <td>14.37</td>\n",
       "      <td>1.95</td>\n",
       "      <td>2.50</td>\n",
       "      <td>16.8</td>\n",
       "      <td>113.0</td>\n",
       "      <td>3.49</td>\n",
       "      <td>0.24</td>\n",
       "      <td>2.18</td>\n",
       "      <td>7.80</td>\n",
       "      <td>0.86</td>\n",
       "      <td>3.45</td>\n",
       "      <td>1480.0</td>\n",
       "    </tr>\n",
       "    <tr>\n",
       "      <th>4</th>\n",
       "      <td>0</td>\n",
       "      <td>13.24</td>\n",
       "      <td>2.59</td>\n",
       "      <td>2.87</td>\n",
       "      <td>21.0</td>\n",
       "      <td>118.0</td>\n",
       "      <td>2.69</td>\n",
       "      <td>0.39</td>\n",
       "      <td>1.82</td>\n",
       "      <td>4.32</td>\n",
       "      <td>1.04</td>\n",
       "      <td>2.93</td>\n",
       "      <td>735.0</td>\n",
       "    </tr>\n",
       "  </tbody>\n",
       "</table>\n",
       "</div>"
      ],
      "text/plain": [
       "   Target  alcohol  malic_acid   ash  alcalinity_of_ash  magnesium  \\\n",
       "0       0    14.23        1.71  2.43               15.6      127.0   \n",
       "1       0    13.20        1.78  2.14               11.2      100.0   \n",
       "2       0    13.16        2.36  2.67               18.6      101.0   \n",
       "3       0    14.37        1.95  2.50               16.8      113.0   \n",
       "4       0    13.24        2.59  2.87               21.0      118.0   \n",
       "\n",
       "   flavanoids  nonflavanoid_phenols  proanthocyanins  color_intensity   hue  \\\n",
       "0        3.06                  0.28             2.29             5.64  1.04   \n",
       "1        2.76                  0.26             1.28             4.38  1.05   \n",
       "2        3.24                  0.30             2.81             5.68  1.03   \n",
       "3        3.49                  0.24             2.18             7.80  0.86   \n",
       "4        2.69                  0.39             1.82             4.32  1.04   \n",
       "\n",
       "   od280/od315_of_diluted_wines  proline  \n",
       "0                          3.92   1065.0  \n",
       "1                          3.40   1050.0  \n",
       "2                          3.17   1185.0  \n",
       "3                          3.45   1480.0  \n",
       "4                          2.93    735.0  "
      ]
     },
     "execution_count": 9,
     "metadata": {},
     "output_type": "execute_result"
    }
   ],
   "source": [
    "# Dropping highly correlated total_phenols (vs. flavanoids) for optimized analysis\n",
    "wine_df.drop(['total_phenols'], axis=1, inplace=True)\n",
    "wine_df.head()"
   ]
  },
  {
   "cell_type": "code",
   "execution_count": 10,
   "metadata": {},
   "outputs": [
    {
     "name": "stdout",
     "output_type": "stream",
     "text": [
      "Accuracy (forest): 0.96\n"
     ]
    }
   ],
   "source": [
    "# Random Forest Model with feature selection\n",
    "# X = Remove y from wine_df (so we can use 'engineered' dataframe)\n",
    "X_wine_df = wine_df.drop(['Target'], axis=1)\n",
    "\n",
    "# y = Remove X from wine_df by selecting the Target column\n",
    "y_wine_df = wine_df['Target']\n",
    "\n",
    "\n",
    "# Train Test Split\n",
    "X_train, X_test, y_train, y_test = train_test_split(X_wine_df, y_wine_df, \n",
    "                                                    test_size=0.30, random_state=321)\n",
    "\n",
    "    \n",
    "rf1 = RandomForestClassifier(random_state=321)\n",
    "rf1.fit(X_train, y_train)\n",
    "\n",
    "y_pred = rf1.predict(X_test)\n",
    "print('Accuracy (forest): %.2f' % accuracy_score(y_test, y_pred))\n",
    "\n",
    "# NOTE: Random Forest model 1 with Feature Selection to remove multicollinearity improves score to 96%"
   ]
  },
  {
   "cell_type": "markdown",
   "metadata": {},
   "source": [
    "# Feature Extraction via PCA on Random Forest model 1"
   ]
  },
  {
   "cell_type": "code",
   "execution_count": 11,
   "metadata": {},
   "outputs": [
    {
     "name": "stdout",
     "output_type": "stream",
     "text": [
      "\n",
      "Prediction accuracy with PCA\n",
      "96.30%\n",
      "Training set R^2 score: 1.00\n",
      "Test set R^2 score: 0.96\n"
     ]
    }
   ],
   "source": [
    "# Run PCA as Feature Extraction as reduced feature may not be identical to any original feature\n",
    "# Run RandomForestClassifier 'as is'\n",
    "rf1_pca = make_pipeline(PCA(n_components=11), RandomForestClassifier(random_state=321))\n",
    "\n",
    "rf1_pca.fit(X_train, y_train) \n",
    "\n",
    "y_pred = rf1_pca.predict(X_test)\n",
    "\n",
    "print('\\nPrediction accuracy with PCA')\n",
    "print('{:.2%}'.format(metrics.accuracy_score(y_test, y_pred)))\n",
    "\n",
    "print(\"Training set R^2 score: {:.2f}\".format(rf1_pca.score(X_train, y_train))) \n",
    "print(\"Test set R^2 score: {:.2f}\".format(rf1_pca.score(X_test, y_test)))\n",
    "\n",
    "# NOTE: Prediction accuracy with PCA on a few less than 13 components remains the same as base model \n",
    "#      since the RFC also reduces multicollinearity as part of its process and accuracy remains ~96%"
   ]
  },
  {
   "cell_type": "markdown",
   "metadata": {},
   "source": [
    "# Random Forest model 2 with hyperparameter tuning"
   ]
  },
  {
   "cell_type": "code",
   "execution_count": 12,
   "metadata": {},
   "outputs": [
    {
     "name": "stdout",
     "output_type": "stream",
     "text": [
      "\n",
      "Prediction accuracy with further tuning\n",
      "98.15%\n",
      "Training set R^2 score: 1.00\n",
      "Test set R^2 score: 0.98\n"
     ]
    }
   ],
   "source": [
    "# Run RandomForestClassifier with additional hyperparameter tuning\n",
    "rf2 = RandomForestClassifier(criterion='entropy', n_estimators=200, n_jobs=2, random_state=321)\n",
    "\n",
    "# Fit to training data for X and y\n",
    "rf2.fit(X_train, y_train) \n",
    "\n",
    "# Predict y by applying fitted RFC to X test features\n",
    "y_pred = rf2.predict(X_test)\n",
    "\n",
    "# Score y test holdout against y predictions\n",
    "print('\\nPrediction accuracy with further tuning')\n",
    "print('{:.2%}'.format(metrics.accuracy_score(y_test, y_pred)))\n",
    "\n",
    "# Score train and tests for comparison as well\n",
    "print(\"Training set R^2 score: {:.2f}\".format(rf2.score(X_train, y_train))) \n",
    "print(\"Test set R^2 score: {:.2f}\".format(rf2.score(X_test, y_test)))\n",
    "\n",
    "# NOTE: Prediction accuracy improves with additional hyperparameter tuning on RFC model\n",
    "#       increasing prediction accuracy to ~98.15%"
   ]
  },
  {
   "cell_type": "markdown",
   "metadata": {},
   "source": [
    "# Random Forest model 3 with addt'l hyperparameter tuning"
   ]
  },
  {
   "cell_type": "code",
   "execution_count": 13,
   "metadata": {},
   "outputs": [
    {
     "name": "stdout",
     "output_type": "stream",
     "text": [
      "\n",
      "Prediction accuracy with additional hp-tuning\n",
      "98.15%\n",
      "Training set R^2 score: 1.00\n",
      "Test set R^2 score: 0.98\n"
     ]
    }
   ],
   "source": [
    "#///////////////// Multiple RFC's with Tuning, but no improvemnet //////////////////////\n",
    "# Run RandomForestClassifier with additional hyperparameter tuning ~96%\n",
    "# rf3 = RandomForestClassifier(criterion='gini', n_estimators=288, n_jobs=2, \n",
    "#                             random_state=321, max_depth=5, bootstrap=True)\n",
    "\n",
    "# Run RandomForestClassifier with additional hyperparameter tuning ~96%\n",
    "# rf4 = RandomForestClassifier(criterion='entropy', n_estimators=288, n_jobs=2, \n",
    "#                             random_state=321, max_depth=5, bootstrap=True, verbose=2)\n",
    "\n",
    "# Run RandomForestClassifier with additional hyperparameter tuning ~94%\n",
    "# rf5 = RandomForestClassifier (bootstrap=True, class_weight=None, criterion='gini',\n",
    "#             max_depth=2, max_features='auto', max_leaf_nodes=None,\n",
    "#             min_impurity_decrease=0.0, min_impurity_split=None,\n",
    "#             min_samples_leaf=1, min_samples_split=2,\n",
    "#             min_weight_fraction_leaf=0.0, n_estimators=100, n_jobs=None,\n",
    "#             oob_score=False, random_state=0, verbose=0, warm_start=False)\n",
    "#///////////////////////////////////////////////////////////////////////////////////////\n",
    "\n",
    "\n",
    "# Simplest model but no more improvement over ~98.15%\n",
    "rf6 = RandomForestClassifier(criterion='entropy', n_estimators=200, random_state=321)\n",
    "\n",
    "# Fit to training data for X and y\n",
    "rf6.fit(X_train, y_train) \n",
    "\n",
    "# Predict y by applying fitted RFC to X test features\n",
    "y_pred = rf6.predict(X_test)\n",
    "\n",
    "# Score y test holdout against y predictions\n",
    "print('\\nPrediction accuracy with additional hp-tuning')\n",
    "print('{:.2%}'.format(metrics.accuracy_score(y_test, y_pred)))\n",
    "\n",
    "# Score train and tests for additional evaluation\n",
    "print(\"Training set R^2 score: {:.2f}\".format(rf6.score(X_train, y_train))) \n",
    "print(\"Test set R^2 score: {:.2f}\".format(rf6.score(X_test, y_test)))\n",
    "\n",
    "# NOTE: Prediction accuracy does not improve with addit'l hyperparameter tuning on RFC model\n",
    "#      increasing prediction accuracy slightly to ~98.15%"
   ]
  },
  {
   "cell_type": "markdown",
   "metadata": {},
   "source": [
    "# Apply Kfold and StratifiedKFold Cross-Validations to RF model 6"
   ]
  },
  {
   "cell_type": "code",
   "execution_count": 14,
   "metadata": {},
   "outputs": [
    {
     "name": "stdout",
     "output_type": "stream",
     "text": [
      "\n",
      "Cross-validation scores 5 splits Stratified: \n",
      "[0.91891892 0.97222222 1.         0.97142857 1.        ]\n",
      "\n",
      " Cross-validation scores 10 splits Stratified: \n",
      "[0.94736842 0.94444444 1.         0.94444444 0.94444444 1.\n",
      " 1.         0.94444444 1.         1.        ]\n",
      "\n",
      " Cross-validation scores 5 splits, shuffle, random: \n",
      "[1.         0.97222222 1.         0.97142857 1.        ]\n"
     ]
    }
   ],
   "source": [
    "# library.method import class\n",
    "from sklearn.model_selection import cross_val_score\n",
    "from sklearn.model_selection import KFold\n",
    "from sklearn.model_selection import StratifiedKFold # method: model_selection, class: StratifiedKFold\n",
    "# Stratified Kfold - if the estimator is a classifier and y either binary or multiclass,\n",
    "# :class:`StratifiedKFold` is used.\n",
    "\n",
    "# Comparing StratifiedKFold classes\n",
    "# Stratified Kfold 5 Splits\n",
    "kfold = StratifiedKFold(n_splits=5)\n",
    "scores = cross_val_score(rf6, wine.data, wine.target, cv=kfold)\n",
    "print(\"\\nCross-validation scores 5 splits Stratified: \\n{}\".format(scores))\n",
    "\n",
    "# Stratified Kfold 10 Splits\n",
    "kfold = StratifiedKFold(n_splits=10)\n",
    "scores = cross_val_score(rf6, wine.data, wine.target, cv=kfold)\n",
    "print(\"\\n Cross-validation scores 10 splits Stratified: \\n{}\".format(scores))\n",
    "\n",
    "# Stratified Kfold 5 Splits, shuffle, random state\n",
    "kfold = StratifiedKFold(n_splits=5, shuffle=True, random_state=321)\n",
    "scores = cross_val_score(rf6, wine.data, wine.target, cv=kfold)\n",
    "print(\"\\n Cross-validation scores 5 splits, shuffle, random: \\n{}\".format(scores))\n",
    "\n",
    "# NOTE: K-fold with 5 splits, shuffle, random applied to RF model 6 appears to have the best\n",
    "#       performance without overfitting as with 10 splits"
   ]
  },
  {
   "cell_type": "markdown",
   "metadata": {},
   "source": [
    "# Apply Grid Search for-loop method to Wine data set"
   ]
  },
  {
   "cell_type": "code",
   "execution_count": 15,
   "metadata": {},
   "outputs": [
    {
     "name": "stdout",
     "output_type": "stream",
     "text": [
      "Size of training set: 133\n",
      "Best score: 1.00\n",
      "best parameters: {'n_estimators': 4, 'min_samples_leaf': 2}\n"
     ]
    }
   ],
   "source": [
    "# Apply simple Grid Search to find the best parameters for the Wine data set \n",
    "\n",
    "wine = load_wine()\n",
    "X_train, X_test, y_train, y_test = train_test_split(wine.data, wine.target, random_state = 321)\n",
    " \n",
    "print(\"Size of training set: {}\".format(\n",
    "        X_train.shape[0], X_test.shape[0]))\n",
    "best_score=0\n",
    "for n_estimators in [1, 2, 4, 8, 16, 32, 64, 100, 200]:\n",
    "    for min_samples_leaf in [1, 2, 4, 8, 12, 16]:\n",
    "        # for each combination of parameters, train a RandomForest\n",
    "        rfc = RandomForestClassifier(n_estimators=n_estimators, min_samples_leaf=min_samples_leaf)\n",
    "        # fit to the training data\n",
    "        rfc.fit(X_train, y_train)\n",
    "        # evaluate the RFC on the test set)\n",
    "        score = rfc.score(X_test, y_test)\n",
    "        # if we got a better score, store the score and parameters\n",
    "        if score > best_score:\n",
    "            best_score = score\n",
    "            best_parameters = {'n_estimators':n_estimators, 'min_samples_leaf':min_samples_leaf}\n",
    "\n",
    "print(\"Best score: {:.2f}\".format(best_score))\n",
    "print(\"best parameters: {}\".format(best_parameters))\n",
    "\n",
    "# NOTE: Model with Grid Search shows signs of overfitting. Will rebuild on combo train+valid and\n",
    "#       evaluate on Test set."
   ]
  },
  {
   "cell_type": "markdown",
   "metadata": {},
   "source": [
    "# Rebuild Model on Combo Train+Valid and Eval on Test"
   ]
  },
  {
   "cell_type": "code",
   "execution_count": 17,
   "metadata": {},
   "outputs": [
    {
     "name": "stdout",
     "output_type": "stream",
     "text": [
      "Size of training set: 99  size of validation set: 34  size of tets set:45\n",
      "\n",
      "Best score: 1.00\n",
      "best parameters: {'n_estimators': 64, 'min_samples_leaf': 2}\n",
      "Test set score with best parameters: 0.98\n"
     ]
    }
   ],
   "source": [
    "# split the data into train + validation set and test set\n",
    "X_trainval, X_test, y_trainval, y_test = train_test_split(wine.data, wine.target, \n",
    "                                                    random_state=321)\n",
    "# split the train + validation set into training and validation set\n",
    "X_train, X_valid, y_train, y_valid = train_test_split(X_trainval, y_trainval, \n",
    "                                                    random_state=321)\n",
    "print(\"Size of training set: {}  size of validation set: {}  size of tets set:\"\n",
    "      \"{}\\n\".format(X_train.shape[0], X_valid.shape[0], X_test.shape[0]))\n",
    "best_score=0\n",
    "for n_estimators in [1, 2, 4, 8, 16, 32, 64, 100, 200]:\n",
    "    for min_samples_leaf in [1, 2, 4, 8, 10]:\n",
    "        # for each combination of parameters, train a RandomForest\n",
    "        rfc = RandomForestClassifier(n_estimators=n_estimators, min_samples_leaf=min_samples_leaf)\n",
    "        # fit to the training data\n",
    "        rfc.fit(X_train, y_train)\n",
    "        # evaluate the RFC model on the validation set)\n",
    "        score = rfc.score(X_valid, y_valid)\n",
    "        # if we got a better score, store the score and parameters\n",
    "        if score > best_score:\n",
    "            best_score = score\n",
    "            best_parameters = {'n_estimators':n_estimators, 'min_samples_leaf':min_samples_leaf}\n",
    "\n",
    "# rebuild the model on the combined training and validation set,\n",
    "# and evalaute it on the test set\n",
    "rfc = RandomForestClassifier(**best_parameters)\n",
    "rfc.fit(X_trainval, y_trainval)\n",
    "test_score = rfc.score(X_test, y_test)\n",
    "print(\"Best score: {:.2f}\".format(best_score))\n",
    "print(\"best parameters: {}\".format(best_parameters))\n",
    "print(\"Test set score with best parameters: {:.2f}\".format(test_score))\n",
    "\n",
    "# NOTE: The Best score on the validcation set is 100% and is the same as simple grid search\n",
    "#       above indicating simple grid search was overfitting. Test set score then shows 98% so we\n",
    "#       can likely only claim to classify new data at 98% accuracy."
   ]
  }
 ],
 "metadata": {
  "kernelspec": {
   "display_name": "Python 3",
   "language": "python",
   "name": "python3"
  },
  "language_info": {
   "codemirror_mode": {
    "name": "ipython",
    "version": 3
   },
   "file_extension": ".py",
   "mimetype": "text/x-python",
   "name": "python",
   "nbconvert_exporter": "python",
   "pygments_lexer": "ipython3",
   "version": "3.6.8"
  }
 },
 "nbformat": 4,
 "nbformat_minor": 2
}
